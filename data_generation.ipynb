{
 "cells": [
  {
   "cell_type": "markdown",
   "metadata": {},
   "source": [
    "# **Data Generation**"
   ]
  },
  {
   "cell_type": "code",
   "execution_count": 202,
   "metadata": {},
   "outputs": [],
   "source": [
    "import pandas as pd\n",
    "import numpy as np\n",
    "import random\n",
    "import matplotlib.pyplot as plt\n",
    "import yaml\n",
    "import json\n",
    "import sys\n",
    "import os"
   ]
  },
  {
   "cell_type": "markdown",
   "metadata": {},
   "source": [
    "### **Standardroutes** ###"
   ]
  },
  {
   "cell_type": "code",
   "execution_count": 203,
   "metadata": {},
   "outputs": [],
   "source": [
    "# lists of cities, products and quantities\n",
    "# 20 cities\n",
    "cities = ['Trento', 'Verona', 'Rome', 'Milano', 'Venezia', 'Bergamo', 'Padova', 'Bologna', 'Bolzano', 'Firenze',\n",
    "          'Pisa', 'Siena', 'Napoli', 'Palermo', 'Genova', 'Torino', 'Lecce', 'Monza', 'Modena', 'Udine']\n",
    "# 20 products\n",
    "products = ['Milk', 'Apples', 'Bananas', 'Bread', 'Cheese', 'Beer', 'Tomatoes', 'Pens', 'Butter', 'Honey',\n",
    "           'Fish', 'Meat', 'Water', 'Tea', 'Chocolate', 'Yogurt', 'Pasta', 'Rice', 'Carrots', 'Potatoes']\n",
    "# quantites from 2 to 30\n",
    "min_quantity = 2\n",
    "max_quantity = 30\n",
    "quantities = list(np.arange(start=min_quantity, stop=max_quantity+1, step=1))"
   ]
  },
  {
   "cell_type": "markdown",
   "metadata": {},
   "source": [
    "**Parameter description**\n",
    "- **min_length**: minimun length of a standardroute\n",
    "- **max_length**: maximum length of a standardroute\n",
    "- **min_products**: minimum number of products per trip\n",
    "- **max_products**: maximum number of products per trip"
   ]
  },
  {
   "cell_type": "code",
   "execution_count": 204,
   "metadata": {},
   "outputs": [
    {
     "name": "stdout",
     "output_type": "stream",
     "text": [
      "Functions for data generation successfully loaded.\n"
     ]
    },
    {
     "name": "stderr",
     "output_type": "stream",
     "text": [
      "Processing: 100%|██████████| 20/20 [00:00<00:00, 4435.13iteration/s]"
     ]
    },
    {
     "name": "stdout",
     "output_type": "stream",
     "text": [
      "id:s1, route:\n",
      "     {'from': 'Verona', 'to': 'Modena', 'merchandise': {'Rice': 20, 'Fish': 10, 'Pasta': 21, 'Meat': 19, 'Apples': 10}}\n",
      "     {'from': 'Modena', 'to': 'Pisa', 'merchandise': {'Rice': 24, 'Water': 13, 'Milk': 24}}\n",
      "     {'from': 'Pisa', 'to': 'Siena', 'merchandise': {'Carrots': 25, 'Fish': 19, 'Pasta': 28, 'Rice': 25, 'Apples': 30, 'Bananas': 11}}\n",
      "\n",
      "\n",
      "id:s2, route:\n",
      "     {'from': 'Monza', 'to': 'Padova', 'merchandise': {'Yogurt': 3, 'Chocolate': 14, 'Honey': 11, 'Rice': 4, 'Tea': 13, 'Water': 19}}\n",
      "     {'from': 'Padova', 'to': 'Bologna', 'merchandise': {'Bread': 21, 'Beer': 26, 'Rice': 26, 'Yogurt': 19, 'Water': 20, 'Apples': 6}}\n",
      "     {'from': 'Bologna', 'to': 'Napoli', 'merchandise': {'Tomatoes': 13, 'Pens': 9, 'Milk': 9, 'Cheese': 28, 'Yogurt': 17, 'Meat': 6, 'Bread': 3}}\n",
      "     {'from': 'Napoli', 'to': 'Rome', 'merchandise': {'Rice': 30, 'Tomatoes': 19, 'Milk': 28, 'Bread': 9, 'Pens': 29, 'Water': 14, 'Chocolate': 5}}\n",
      "     {'from': 'Rome', 'to': 'Siena', 'merchandise': {'Bread': 26, 'Apples': 19, 'Cheese': 16, 'Milk': 23, 'Pens': 22, 'Rice': 18, 'Water': 11}}\n",
      "\n",
      "\n",
      "id:s3, route:\n",
      "     {'from': 'Modena', 'to': 'Bergamo', 'merchandise': {'Tomatoes': 15, 'Milk': 4, 'Bananas': 22, 'Yogurt': 21}}\n",
      "     {'from': 'Bergamo', 'to': 'Udine', 'merchandise': {'Rice': 3, 'Pasta': 7, 'Cheese': 14, 'Meat': 15}}\n",
      "     {'from': 'Udine', 'to': 'Venezia', 'merchandise': {'Bananas': 25, 'Pasta': 29, 'Pens': 17, 'Water': 10, 'Milk': 23, 'Chocolate': 14, 'Carrots': 9}}\n",
      "     {'from': 'Venezia', 'to': 'Trento', 'merchandise': {'Pasta': 10, 'Water': 8, 'Bananas': 13, 'Apples': 7, 'Bread': 2, 'Pens': 10, 'Potatoes': 30}}\n",
      "     {'from': 'Trento', 'to': 'Bolzano', 'merchandise': {'Carrots': 22, 'Honey': 15, 'Pasta': 27, 'Tomatoes': 24, 'Fish': 30, 'Bananas': 9, 'Chocolate': 13}}\n",
      "\n",
      "\n"
     ]
    },
    {
     "name": "stderr",
     "output_type": "stream",
     "text": [
      "\n"
     ]
    }
   ],
   "source": [
    "# run notebook to load functions fun_sroutes(), fun_aroutes() and show_route()\n",
    "# to create standardroutes and actual routes and to visualize a route\n",
    "%run \"functions_data_generation.ipynb\"\n",
    "\n",
    "# define parameters\n",
    "min_length = 3\n",
    "max_length = 7\n",
    "min_products = 3\n",
    "max_products = 7\n",
    "\n",
    "### EXECUTE FUNCTION ###\n",
    "standardroutes = fun_sroutes(number_of_routes=20, prints=False)"
   ]
  },
  {
   "cell_type": "markdown",
   "metadata": {},
   "source": [
    "### **Drivers** ###\n",
    "##### **possible attributes:**\n",
    "- likes short / long routes (cuts or adds cities)\n",
    "- likes a city / dislikes a city (cuts or adds specific cities)\n",
    "- likes many products / few products (cuts or adds products)\n",
    "- likes a product / dislikes a product (cuts or adds specific products)\n",
    "- likes high quantities / low quantites (increases or decreases quantities)"
   ]
  },
  {
   "cell_type": "markdown",
   "metadata": {},
   "source": [
    "##### **Driver descriptions**\n",
    "\n",
    "- **Driver A**: with attributes *['likes short routes', 'likes few products']*; he prefers routes with max. 4 trips and max. 4 products per trip.<br><br>\n",
    "- **Driver B**: with attributes *['likes long routes', 'likes high quantities']*; he prefers routes with min. 5 trips and overall quantities of min. 15.<br><br>\n",
    "- **Driver C**: with attributes *['likes a city', 'dislikes a product']*; he prefers routes which contain the cities ['Trento', 'Verona'], but no trips with the products ['Water', 'Milk', 'Fish'] or at least max. quantity of 12 of these disliked products.<br><br>\n",
    "- **Driver D**: with attributes *['dislikes a city', 'likes low quantities']*; he prefers routes without the cities ['Milano', 'Venezia', 'Lecce'] and overall quantities of max. 15.<br><br>\n",
    "- **Driver E**: with attributes *['likes a city', 'likes few products']*; he prefers routes which contain the cities ['Rome', 'Padua'], but max. 4 products per trip.<br><br>\n",
    "- **Driver F**: with attributes *['likes short routes', 'likes many products']*; he prefers routes with max. 4 trips and trips with min. 5 products per trip.<br><br>\n",
    "- **Driver G**: with attributes *['likes short routes', 'likes a product']*; he prefers routes with max. 4 trips and trips that contain the products ['Beer', 'Cheese'] or at least min. quantity of 18 of these liked products.<br><br>\n",
    "- **Driver H**: with attributes *['dislikes a city', 'dislikes a product']*; he prefers routes without the cities ['Lecce', 'Palermo', 'Udine'] and no trips with the products ['Bananas', 'Bread', 'Tomatoes'] or at least max. quantity of 12 of these disliked products.<br><br>\n",
    "- **Driver I**: with attributes *['likes a product', 'likes high quantities']*; he prefers routes with trips that contain the products ['Chocolate', 'Honey'] or at least min. quantity of 18 of these liked products and overall quantities of min. 15.<br><br>\n",
    "- **Driver J**: with attributes *['likes long routes', 'likes low quantities']*; he prefers routes with min. 5 trips, but overall quantities of max. 15.<br><br>"
   ]
  },
  {
   "cell_type": "code",
   "execution_count": 205,
   "metadata": {},
   "outputs": [
    {
     "data": {
      "text/html": [
       "<div>\n",
       "<style scoped>\n",
       "    .dataframe tbody tr th:only-of-type {\n",
       "        vertical-align: middle;\n",
       "    }\n",
       "\n",
       "    .dataframe tbody tr th {\n",
       "        vertical-align: top;\n",
       "    }\n",
       "\n",
       "    .dataframe thead th {\n",
       "        text-align: right;\n",
       "    }\n",
       "</style>\n",
       "<table border=\"1\" class=\"dataframe\">\n",
       "  <thead>\n",
       "    <tr style=\"text-align: right;\">\n",
       "      <th></th>\n",
       "      <th>likes short routes</th>\n",
       "      <th>likes long routes</th>\n",
       "      <th>likes a city</th>\n",
       "      <th>dislikes a city</th>\n",
       "      <th>likes few products</th>\n",
       "      <th>likes many products</th>\n",
       "      <th>likes a product</th>\n",
       "      <th>dislikes a product</th>\n",
       "      <th>likes high quantities</th>\n",
       "      <th>likes low quantities</th>\n",
       "    </tr>\n",
       "  </thead>\n",
       "  <tbody>\n",
       "    <tr>\n",
       "      <th>driver_A</th>\n",
       "      <td>Yes</td>\n",
       "      <td>-</td>\n",
       "      <td>-</td>\n",
       "      <td>-</td>\n",
       "      <td>-</td>\n",
       "      <td>-</td>\n",
       "      <td>-</td>\n",
       "      <td>-</td>\n",
       "      <td>Yes</td>\n",
       "      <td>-</td>\n",
       "    </tr>\n",
       "    <tr>\n",
       "      <th>driver_B</th>\n",
       "      <td>-</td>\n",
       "      <td>Yes</td>\n",
       "      <td>-</td>\n",
       "      <td>-</td>\n",
       "      <td>-</td>\n",
       "      <td>Yes</td>\n",
       "      <td>-</td>\n",
       "      <td>-</td>\n",
       "      <td>-</td>\n",
       "      <td>-</td>\n",
       "    </tr>\n",
       "    <tr>\n",
       "      <th>driver_C</th>\n",
       "      <td>-</td>\n",
       "      <td>Yes</td>\n",
       "      <td>Yes</td>\n",
       "      <td>-</td>\n",
       "      <td>-</td>\n",
       "      <td>-</td>\n",
       "      <td>-</td>\n",
       "      <td>Yes</td>\n",
       "      <td>-</td>\n",
       "      <td>-</td>\n",
       "    </tr>\n",
       "    <tr>\n",
       "      <th>driver_D</th>\n",
       "      <td>-</td>\n",
       "      <td>-</td>\n",
       "      <td>-</td>\n",
       "      <td>Yes</td>\n",
       "      <td>-</td>\n",
       "      <td>-</td>\n",
       "      <td>-</td>\n",
       "      <td>-</td>\n",
       "      <td>Yes</td>\n",
       "      <td>-</td>\n",
       "    </tr>\n",
       "    <tr>\n",
       "      <th>driver_E</th>\n",
       "      <td>-</td>\n",
       "      <td>-</td>\n",
       "      <td>Yes</td>\n",
       "      <td>-</td>\n",
       "      <td>Yes</td>\n",
       "      <td>-</td>\n",
       "      <td>-</td>\n",
       "      <td>-</td>\n",
       "      <td>-</td>\n",
       "      <td>-</td>\n",
       "    </tr>\n",
       "    <tr>\n",
       "      <th>driver_F</th>\n",
       "      <td>Yes</td>\n",
       "      <td>-</td>\n",
       "      <td>-</td>\n",
       "      <td>-</td>\n",
       "      <td>-</td>\n",
       "      <td>Yes</td>\n",
       "      <td>-</td>\n",
       "      <td>-</td>\n",
       "      <td>-</td>\n",
       "      <td>-</td>\n",
       "    </tr>\n",
       "    <tr>\n",
       "      <th>driver_G</th>\n",
       "      <td>Yes</td>\n",
       "      <td>-</td>\n",
       "      <td>-</td>\n",
       "      <td>-</td>\n",
       "      <td>-</td>\n",
       "      <td>-</td>\n",
       "      <td>Yes</td>\n",
       "      <td>-</td>\n",
       "      <td>-</td>\n",
       "      <td>-</td>\n",
       "    </tr>\n",
       "    <tr>\n",
       "      <th>driver_H</th>\n",
       "      <td>-</td>\n",
       "      <td>-</td>\n",
       "      <td>-</td>\n",
       "      <td>Yes</td>\n",
       "      <td>-</td>\n",
       "      <td>Yes</td>\n",
       "      <td>-</td>\n",
       "      <td>Yes</td>\n",
       "      <td>-</td>\n",
       "      <td>-</td>\n",
       "    </tr>\n",
       "    <tr>\n",
       "      <th>driver_I</th>\n",
       "      <td>-</td>\n",
       "      <td>-</td>\n",
       "      <td>-</td>\n",
       "      <td>-</td>\n",
       "      <td>-</td>\n",
       "      <td>-</td>\n",
       "      <td>Yes</td>\n",
       "      <td>-</td>\n",
       "      <td>Yes</td>\n",
       "      <td>-</td>\n",
       "    </tr>\n",
       "    <tr>\n",
       "      <th>driver_J</th>\n",
       "      <td>Yes</td>\n",
       "      <td>-</td>\n",
       "      <td>-</td>\n",
       "      <td>-</td>\n",
       "      <td>-</td>\n",
       "      <td>-</td>\n",
       "      <td>-</td>\n",
       "      <td>-</td>\n",
       "      <td>-</td>\n",
       "      <td>Yes</td>\n",
       "    </tr>\n",
       "  </tbody>\n",
       "</table>\n",
       "</div>"
      ],
      "text/plain": [
       "         likes short routes likes long routes likes a city dislikes a city  \\\n",
       "driver_A                Yes                 -            -               -   \n",
       "driver_B                  -               Yes            -               -   \n",
       "driver_C                  -               Yes          Yes               -   \n",
       "driver_D                  -                 -            -             Yes   \n",
       "driver_E                  -                 -          Yes               -   \n",
       "driver_F                Yes                 -            -               -   \n",
       "driver_G                Yes                 -            -               -   \n",
       "driver_H                  -                 -            -             Yes   \n",
       "driver_I                  -                 -            -               -   \n",
       "driver_J                Yes                 -            -               -   \n",
       "\n",
       "         likes few products likes many products likes a product  \\\n",
       "driver_A                  -                   -               -   \n",
       "driver_B                  -                 Yes               -   \n",
       "driver_C                  -                   -               -   \n",
       "driver_D                  -                   -               -   \n",
       "driver_E                Yes                   -               -   \n",
       "driver_F                  -                 Yes               -   \n",
       "driver_G                  -                   -             Yes   \n",
       "driver_H                  -                 Yes               -   \n",
       "driver_I                  -                   -             Yes   \n",
       "driver_J                  -                   -               -   \n",
       "\n",
       "         dislikes a product likes high quantities likes low quantities  \n",
       "driver_A                  -                   Yes                    -  \n",
       "driver_B                  -                     -                    -  \n",
       "driver_C                Yes                     -                    -  \n",
       "driver_D                  -                   Yes                    -  \n",
       "driver_E                  -                     -                    -  \n",
       "driver_F                  -                     -                    -  \n",
       "driver_G                  -                     -                    -  \n",
       "driver_H                Yes                     -                    -  \n",
       "driver_I                  -                   Yes                    -  \n",
       "driver_J                  -                     -                  Yes  "
      ]
     },
     "metadata": {},
     "output_type": "display_data"
    }
   ],
   "source": [
    "# create a character for each driver with his preferences\n",
    "drivers = ['A', 'B', 'C', 'D', 'E', 'F', 'G', 'H', 'I', 'J']\n",
    "attributes = ['likes short routes', 'likes long routes',\n",
    "             'likes a city', 'dislikes a city',\n",
    "             'likes few products', 'likes many products',\n",
    "             'likes a product', 'dislikes a product',\n",
    "             'likes high quantities', 'likes low quantities']\n",
    "\n",
    "data = np.where(np.identity(n=10, dtype=int)==1, 'Yes', '-')\n",
    "df_drivers_attributes = pd.DataFrame(data=data, index=['driver_' + driver for driver in drivers], columns=attributes)\n",
    "df_drivers_attributes.loc['driver_A', 'likes high quantities'] = 'Yes'\n",
    "df_drivers_attributes.loc['driver_B', 'likes many products'] = 'Yes'\n",
    "df_drivers_attributes.loc['driver_C', 'dislikes a product'] = 'Yes'\n",
    "df_drivers_attributes.loc['driver_C', 'likes long routes'] = 'Yes'\n",
    "df_drivers_attributes.loc['driver_D', 'likes high quantities'] = 'Yes'\n",
    "df_drivers_attributes.loc['driver_E', 'likes a city'] = 'Yes'\n",
    "df_drivers_attributes.loc['driver_F', 'likes short routes'] = 'Yes'\n",
    "df_drivers_attributes.loc['driver_G', 'likes short routes'] = 'Yes'\n",
    "df_drivers_attributes.loc['driver_H', 'dislikes a city'] = 'Yes'\n",
    "df_drivers_attributes.loc['driver_H', 'likes many products'] = 'Yes'\n",
    "df_drivers_attributes.loc['driver_I', 'likes a product'] = 'Yes'\n",
    "df_drivers_attributes.loc['driver_J', 'likes short routes'] = 'Yes'\n",
    "display(df_drivers_attributes)\n",
    "\n",
    "# define dictionarys with more specific information about what drivers like and dislike\n",
    "driver_products = {'driver_C': ['Water', 'Milk', 'Fish'], #dislike\n",
    "                   'driver_G': ['Beer', 'Cheese'], #like\n",
    "                   'driver_H': ['Fish', 'Bread', 'Tomatoes'], #dislike\n",
    "                   'driver_I': ['Chocolate', 'Honey']} #like\n",
    "\n",
    "driver_cities = {'driver_C': ['Trento', 'Verona'], #like\n",
    "                 'driver_D': ['Milano', 'Palermo', 'Lecce'], #dislike\n",
    "                 'driver_E': ['Rome', 'Padova'], #like\n",
    "                 'driver_H': ['Lecce', 'Palermo', 'Udine']} #dislike"
   ]
  },
  {
   "cell_type": "markdown",
   "metadata": {},
   "source": [
    "### **Actual Routes** ###"
   ]
  },
  {
   "cell_type": "code",
   "execution_count": 206,
   "metadata": {},
   "outputs": [
    {
     "name": "stdout",
     "output_type": "stream",
     "text": [
      "Number of actual routes: 100000\n",
      "\n",
      "id:s1, route:\n",
      "     {'from': 'Verona', 'to': 'Modena', 'merchandise': {'Rice': 20, 'Fish': 10, 'Pasta': 21, 'Meat': 19, 'Apples': 10}}\n",
      "     {'from': 'Modena', 'to': 'Pisa', 'merchandise': {'Rice': 24, 'Water': 13, 'Milk': 24}}\n",
      "     {'from': 'Pisa', 'to': 'Siena', 'merchandise': {'Carrots': 25, 'Fish': 19, 'Pasta': 28, 'Rice': 25, 'Apples': 30, 'Bananas': 11}}\n",
      "\n",
      "\n"
     ]
    }
   ],
   "source": [
    "# define how many actual routes should be created for each standardroute\n",
    "jobs_per_route = 5000 #500\n",
    "#jobs_per_route = 200\n",
    "\n",
    "# calculate the total amount of actual routes\n",
    "number_of_actual_routes = jobs_per_route * len(standardroutes)\n",
    "print('Number of actual routes: {}\\n'.format(number_of_actual_routes))\n",
    "\n",
    "show_route(standardroutes[0])"
   ]
  },
  {
   "cell_type": "markdown",
   "metadata": {},
   "source": [
    "**Define parameters**\n",
    "- **min_l**: minimum route length for a driver who likes long routes\n",
    "- **max_l**: maximum route length for a driver who likes short routes\n",
    "- **min_p**: minimum products per trip for a driver who likes many products per trip\n",
    "- **max_p**: maximum products per trip for a driver who likes few products per trip\n",
    "- **min_q**: minimum quantity if a driver likes a product\n",
    "- **max_q**: maximum quantity if a driver dislikes aproduct\n",
    "- **q_threshold**: miniumum/maximum quantity if a driver likes high/low quantities\n",
    "- **prandom_p**: parameter of randomness (decides with what probability a driver increases/decreases overall quantities if he likes high/low quantities)\n",
    "- **extra_random_p**: parameter of extra randomness (added to the parameter of randomness to decide if a driver increases/decreases the quantites of liked/disliked products)\n",
    "<br><br>\n",
    "- **input_sr**: standardroutes, which are used to create the actual routes\n",
    "- **driver_givern**: select a specific driver (for debugging and evaluation of problem 2 and 3); default = False\n",
    "- **prints**: settings for printing the output or not; options=(True, False); default = True\n",
    "-**bar**: show the progress bar after finishing all iterations; default = True\n",
    "- **ar_count**: counts the actual routes; default = 0"
   ]
  },
  {
   "cell_type": "code",
   "execution_count": 207,
   "metadata": {},
   "outputs": [
    {
     "name": "stderr",
     "output_type": "stream",
     "text": [
      "Processing: 100%|██████████| 20/20 [02:36<00:00,  7.80s/iteration]\n"
     ]
    }
   ],
   "source": [
    "# define parameters\n",
    "min_l = 6\n",
    "max_l = 4\n",
    "min_p = 6\n",
    "max_p = 4\n",
    "min_q = 20\n",
    "max_q = 10\n",
    "q_threshold = 15\n",
    "random_p = 0.7\n",
    "extra_random_p = 0.15\n",
    "\n",
    "### EXECUTE FUNCTION ###\n",
    "actual_routes = fun_aroutes(input_sr=standardroutes, driver_given=False, debug=False, prints=False)"
   ]
  },
  {
   "cell_type": "code",
   "execution_count": 208,
   "metadata": {},
   "outputs": [
    {
     "name": "stdout",
     "output_type": "stream",
     "text": [
      "\n",
      "\n",
      "------------------------------COMPARISON STANDARDROUTE VS ACTUAL ROUTE-----------------------------------\n",
      "id:s1, route:\n",
      "     {'from': 'Verona', 'to': 'Modena', 'merchandise': {'Rice': 20, 'Fish': 10, 'Pasta': 21, 'Meat': 19, 'Apples': 10}}\n",
      "     {'from': 'Modena', 'to': 'Pisa', 'merchandise': {'Rice': 24, 'Water': 13, 'Milk': 24}}\n",
      "     {'from': 'Pisa', 'to': 'Siena', 'merchandise': {'Carrots': 25, 'Fish': 19, 'Pasta': 28, 'Rice': 25, 'Apples': 30, 'Bananas': 11}}\n",
      "\n",
      "\n",
      "Driver's attributes: ['likes a product', 'likes high quantities']\n",
      "id:a1, driver:I, sroute:s1, route:\n",
      "     {'from': 'Verona', 'to': 'Modena', 'merchandise': {'Rice': 20, 'Fish': 23, 'Pasta': 21, 'Meat': 19, 'Apples': 22}}\n",
      "     {'from': 'Modena', 'to': 'Pisa', 'merchandise': {'Rice': 24, 'Water': 17, 'Milk': 24, 'Honey': 30, 'Chocolate': 24}}\n",
      "     {'from': 'Pisa', 'to': 'Siena', 'merchandise': {'Carrots': 25, 'Fish': 19, 'Pasta': 28, 'Rice': 25, 'Apples': 30, 'Bananas': 24, 'Chocolate': 25}}\n",
      "\n",
      "\n",
      "\n",
      "\n",
      "------------------------------COMPARISON STANDARDROUTE VS ACTUAL ROUTE-----------------------------------\n",
      "id:s1, route:\n",
      "     {'from': 'Verona', 'to': 'Modena', 'merchandise': {'Rice': 20, 'Fish': 10, 'Pasta': 21, 'Meat': 19, 'Apples': 10}}\n",
      "     {'from': 'Modena', 'to': 'Pisa', 'merchandise': {'Rice': 24, 'Water': 13, 'Milk': 24}}\n",
      "     {'from': 'Pisa', 'to': 'Siena', 'merchandise': {'Carrots': 25, 'Fish': 19, 'Pasta': 28, 'Rice': 25, 'Apples': 30, 'Bananas': 11}}\n",
      "\n",
      "\n",
      "Driver's attributes: ['likes short routes', 'likes many products']\n",
      "id:a2, driver:F, sroute:s1, route:\n",
      "     {'from': 'Verona', 'to': 'Modena', 'merchandise': {'Rice': 20, 'Fish': 10, 'Pasta': 21, 'Meat': 19, 'Apples': 10, 'Honey': 23, 'Yogurt': 26}}\n",
      "     {'from': 'Modena', 'to': 'Pisa', 'merchandise': {'Rice': 24, 'Water': 13, 'Milk': 24, 'Bread': 30, 'Tomatoes': 8, 'Apples': 16, 'Meat': 12}}\n",
      "     {'from': 'Pisa', 'to': 'Siena', 'merchandise': {'Carrots': 25, 'Fish': 19, 'Pasta': 28, 'Rice': 25, 'Apples': 30, 'Bananas': 11}}\n",
      "\n",
      "\n",
      "\n",
      "\n",
      "------------------------------COMPARISON STANDARDROUTE VS ACTUAL ROUTE-----------------------------------\n",
      "id:s1, route:\n",
      "     {'from': 'Verona', 'to': 'Modena', 'merchandise': {'Rice': 20, 'Fish': 10, 'Pasta': 21, 'Meat': 19, 'Apples': 10}}\n",
      "     {'from': 'Modena', 'to': 'Pisa', 'merchandise': {'Rice': 24, 'Water': 13, 'Milk': 24}}\n",
      "     {'from': 'Pisa', 'to': 'Siena', 'merchandise': {'Carrots': 25, 'Fish': 19, 'Pasta': 28, 'Rice': 25, 'Apples': 30, 'Bananas': 11}}\n",
      "\n",
      "\n",
      "Driver's attributes: ['likes long routes', 'likes many products']\n",
      "id:a3, driver:B, sroute:s1, route:\n",
      "     {'from': 'Lecce', 'to': 'Verona', 'merchandise': {'Cheese': 12, 'Apples': 4, 'Meat': 13, 'Milk': 30, 'Rice': 22, 'Fish': 13, 'Tomatoes': 18}}\n",
      "     {'from': 'Verona', 'to': 'Modena', 'merchandise': {'Rice': 20, 'Fish': 10, 'Pasta': 21, 'Meat': 19, 'Apples': 10, 'Cheese': 3, 'Tomatoes': 26}}\n",
      "     {'from': 'Modena', 'to': 'Bologna', 'merchandise': {'Milk': 17, 'Bread': 17, 'Meat': 26, 'Tomatoes': 20, 'Chocolate': 30, 'Carrots': 10}}\n",
      "     {'from': 'Bologna', 'to': 'Venezia', 'merchandise': {'Chocolate': 23, 'Rice': 2, 'Cheese': 2, 'Potatoes': 8, 'Apples': 2}}\n",
      "     {'from': 'Venezia', 'to': 'Pisa', 'merchandise': {'Rice': 24, 'Water': 13, 'Milk': 24, 'Pens': 30, 'Tea': 11}}\n",
      "     {'from': 'Pisa', 'to': 'Siena', 'merchandise': {'Carrots': 25, 'Fish': 19, 'Pasta': 28, 'Rice': 25, 'Apples': 30, 'Bananas': 11}}\n",
      "\n",
      "\n"
     ]
    }
   ],
   "source": [
    "# compare first three actual routes with their standardroute (or only first actual route if only one was created)\n",
    "for i in range(min(3, len(actual_routes))):\n",
    "    print('\\n\\n------------------------------COMPARISON STANDARDROUTE VS ACTUAL ROUTE-----------------------------------')\n",
    "    show_route(standardroutes[[route['id'] == actual_routes[i]['sroute'] for route in standardroutes].index(True)])\n",
    "    print(\"Driver's attributes:\", df_drivers_attributes.columns[df_drivers_attributes.loc['driver_' + actual_routes[i]['driver']] == 'Yes'].tolist())\n",
    "    show_route(actual_routes[i])"
   ]
  },
  {
   "cell_type": "markdown",
   "metadata": {},
   "source": [
    "### **Analysing the jobs per driver** ###"
   ]
  },
  {
   "cell_type": "code",
   "execution_count": 209,
   "metadata": {},
   "outputs": [
    {
     "name": "stdout",
     "output_type": "stream",
     "text": [
      "driver_A: 10003\n",
      "driver_B: 9992\n",
      "driver_C: 10060\n",
      "driver_D: 9892\n",
      "driver_E: 9941\n",
      "driver_F: 10105\n",
      "driver_G: 10054\n",
      "driver_H: 10021\n",
      "driver_I: 9923\n",
      "driver_J: 10009\n"
     ]
    },
    {
     "data": {
      "image/png": "[encoded data removed]",
      "text/plain": [
       "<Figure size 700x300 with 1 Axes>"
      ]
     },
     "metadata": {},
     "output_type": "display_data"
    }
   ],
   "source": [
    "# count each drivers routes (each route is one job)\n",
    "driver_jobs = [driver['driver'] for driver in actual_routes]\n",
    "drivers_count_list = [driver_jobs.count(driver) for driver in drivers]\n",
    "drivers_count_dict = {drivers[driver]: drivers_count_list[driver] for driver in range(len(drivers))}\n",
    "\n",
    "#display(drivers_count_dict)\n",
    "for driver in drivers: print('driver_{}: {}'.format(driver, drivers_count_dict[driver]))\n",
    "\n",
    "# plot\n",
    "plt.figure(figsize=(7, 3))\n",
    "plt.bar(drivers_count_dict.keys(), drivers_count_dict.values())\n",
    "plt.xlabel('Drivers')\n",
    "plt.ylabel('Amount')\n",
    "plt.title('Number of jobs per driver', size=15)\n",
    "plt.show()"
   ]
  },
  {
   "cell_type": "code",
   "execution_count": 210,
   "metadata": {},
   "outputs": [],
   "source": [
    "#sys.exit()"
   ]
  },
  {
   "cell_type": "markdown",
   "metadata": {},
   "source": [
    "### **Create Json-files** ###"
   ]
  },
  {
   "cell_type": "code",
   "execution_count": 211,
   "metadata": {},
   "outputs": [
    {
     "name": "stdout",
     "output_type": "stream",
     "text": [
      "Json files 'standard.json' and 'actual.json' have been successfully created.\n"
     ]
    }
   ],
   "source": [
    "# select current working directory and subfolder to save the files\n",
    "current_directory = os.getcwd()\n",
    "subfolder_path = 'data'\n",
    "\n",
    "file_names = ['standard.json', 'actual.json']\n",
    "files = [standardroutes, actual_routes]\n",
    "\n",
    "for i in range(2):\n",
    "    file_path = os.path.join(current_directory, subfolder_path, file_names[i])\n",
    "\n",
    "    with open(file_path, 'w') as file:\n",
    "        json.dump(files[i], file) #yaml.dump(files[i], file)\n",
    "\n",
    "print(f\"Json files '{file_names[0]}' and '{file_names[1]}' have been successfully created.\")"
   ]
  },
  {
   "cell_type": "markdown",
   "metadata": {},
   "source": [
    "### **Read the Json-files with standardroutes and actual routes** ###"
   ]
  },
  {
   "cell_type": "code",
   "execution_count": 212,
   "metadata": {},
   "outputs": [],
   "source": [
    "# select file path for standardroutes\n",
    "file_path = os.path.join(current_directory, subfolder_path, 'standard.json')\n",
    "with open(file_path, 'r') as file:\n",
    "    standardroutes_json = json.load(file) #yaml.safe_load(file)\n",
    "\n",
    "# select file path for actual routes\n",
    "file_path = os.path.join(current_directory, subfolder_path, 'actual.json')\n",
    "with open(file_path, 'r') as file:\n",
    "    actual_routes_json = json.load(file)"
   ]
  },
  {
   "cell_type": "code",
   "execution_count": 213,
   "metadata": {},
   "outputs": [],
   "source": [
    "# get all actual routes of one standardroute\n",
    "route_id = 's6'\n",
    "x = [route for route in actual_routes_json if route['sroute'] == route_id]"
   ]
  },
  {
   "cell_type": "code",
   "execution_count": 214,
   "metadata": {},
   "outputs": [],
   "source": [
    "# get all actual routes of one driver\n",
    "driver = 'A'\n",
    "x = [route for route in actual_routes_json if route['driver'] == driver]"
   ]
  },
  {
   "cell_type": "code",
   "execution_count": 215,
   "metadata": {},
   "outputs": [
    {
     "data": {
      "text/plain": [
       "100000"
      ]
     },
     "execution_count": 215,
     "metadata": {},
     "output_type": "execute_result"
    }
   ],
   "source": [
    "len(actual_routes_json)"
   ]
  },
  {
   "cell_type": "markdown",
   "metadata": {},
   "source": [
    "### **Save all the necessary parameters to create the routes for the evaluation part in a .json file** ###"
   ]
  },
  {
   "cell_type": "code",
   "execution_count": 216,
   "metadata": {},
   "outputs": [],
   "source": [
    "# create the dictionary with the parameters\n",
    "parameter_dictionary = {'cities': cities,\n",
    "                        'products': products,\n",
    "                        'min_quantity': min_quantity,\n",
    "                        'max_quantity': max_quantity,\n",
    "                        'quantities': [int(i) for i in quantities],\n",
    "                        'min_length': min_length,\n",
    "                        'max_length': max_length,\n",
    "                        'min_products': min_products,\n",
    "                        'max_products': max_products,\n",
    "                        'drivers': drivers, \n",
    "                        'df_drivers_attributes': df_drivers_attributes.to_dict(),   #turn DF into dictionary for .json format\n",
    "                        'driver_products': driver_products, \n",
    "                        'driver_cities': driver_cities,\n",
    "                        'jobs_per_route': jobs_per_route, \n",
    "                        'number_of_actual_routes': number_of_actual_routes,\n",
    "                        'min_l': min_l, \n",
    "                        'max_l': max_l, \n",
    "                        'min_p': min_p, \n",
    "                        'max_p': max_p, \n",
    "                        'min_q': min_q, \n",
    "                        'max_q': min_q, \n",
    "                        'q_threshold': q_threshold,\n",
    "                        'random_p': random_p,\n",
    "                        'extra_random_p': extra_random_p}"
   ]
  },
  {
   "cell_type": "code",
   "execution_count": 217,
   "metadata": {},
   "outputs": [
    {
     "name": "stdout",
     "output_type": "stream",
     "text": [
      "Json file 'parameter_dictionary.json' have been successfully created.\n"
     ]
    }
   ],
   "source": [
    "# select current working directory and subfolder to save the file\n",
    "current_directory = os.getcwd()\n",
    "subfolder_path = 'data'\n",
    "\n",
    "file_name = 'parameter_dictionary.json'\n",
    "files = parameter_dictionary\n",
    "\n",
    "file_path = os.path.join(current_directory, subfolder_path, file_name)\n",
    "\n",
    "with open(file_path, 'w') as file:\n",
    "    json.dump(parameter_dictionary, file)\n",
    "\n",
    "print(f\"Json file '{file_name}' have been successfully created.\")"
   ]
  },
  {
   "cell_type": "markdown",
   "metadata": {},
   "source": [
    "### **Syntax of standardroutes and actual routes** ###"
   ]
  },
  {
   "cell_type": "code",
   "execution_count": 218,
   "metadata": {},
   "outputs": [],
   "source": [
    "### STANDARDROUTES ###\n",
    "\n",
    "# [\n",
    "# \t{id:s5, route:[\n",
    "# \t\t{from:‘Rome’, to:‘Milan’, merchandise: {milk:3, pens:10, butter:20}},\n",
    "# {from:‘Milan’, to:‘Verona’, merchandise: {milk:5, honey:9, butter:10, tomatoes:20}}, \n",
    "# {from:‘Verona’, to:‘Venezia’, merchandise:{butter:7, pens:2, tomatoes:10}}\n",
    "# ]\n",
    "# }, \n",
    "\n",
    "# {id:s10, route:[\n",
    "# \t\t{from:‘Rome’, to:‘Milan’, merchandise: {milk:2, pens:10, butter:20}},\n",
    "# {from:‘Milan’, to:‘Verona’, merchandise: {milk:5, tomatoes:24}}, \n",
    "# {from:‘Verona’, to:‘Venezia’, merchandise:{butter:7, bread:2, tomatoes:10}}\n",
    "# ]\n",
    "# },\n",
    "\n",
    "# ]"
   ]
  },
  {
   "cell_type": "code",
   "execution_count": 219,
   "metadata": {},
   "outputs": [],
   "source": [
    "### ACTUAL ROUTES ###\n",
    "\n",
    "# [\n",
    "# {id:a25, driver:C, sroute:s5, route:[\n",
    "# {from:‘Rome’, to:‘Milan’, merchandise: {milk:4, pens:4, butter:20}},\n",
    "# {from:‘Milan’, to:‘Bergamo’, merchandise: {milk:5, honey:19, butter:10, tomatoes:20}},\n",
    "# {from:‘Bergamo’, to:‘Venezia’, merchandise:{butter:47, pens:2, tomatoes:1}}\n",
    "# ]\n",
    "# },\n",
    "# {id:a13, driver:E, sroute:s10, route:[\n",
    "# {from:‘Bolzano’, to:‘Milan’, merchandise: {milk:2, pens:10, butter:22}},\n",
    "# {from:‘Milan’, to:‘Verona’, merchandise: {milk:15, tomatoes:4}},\n",
    "# {from:‘Verona’, to:‘Venezia’, merchandise:{butter:7, bread:21, tomatoes:10}}\n",
    "# ]\n",
    "# },\n",
    "# ]"
   ]
  }
 ],
 "metadata": {
  "kernelspec": {
   "display_name": "base",
   "language": "python",
   "name": "python3"
  },
  "language_info": {
   "codemirror_mode": {
    "name": "ipython",
    "version": 3
   },
   "file_extension": ".py",
   "mimetype": "text/x-python",
   "name": "python",
   "nbconvert_exporter": "python",
   "pygments_lexer": "ipython3",
   "version": "3.9.16"
  }
 },
 "nbformat": 4,
 "nbformat_minor": 2
}
