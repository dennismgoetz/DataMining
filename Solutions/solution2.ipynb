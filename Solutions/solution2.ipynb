{
 "cells": [
  {
   "cell_type": "code",
   "execution_count": 1,
   "metadata": {},
   "outputs": [],
   "source": [
    "from routemining import rankroutes"
   ]
  },
  {
   "cell_type": "code",
   "execution_count": 3,
   "metadata": {},
   "outputs": [
    {
     "name": "stdout",
     "output_type": "stream",
     "text": [
      "loading data\n",
      "mapping partition borders\n",
      "converting routes into minhash signatures\n",
      "comparing using jaccard\n",
      "['s1', 's17', 's11', 's6', 's18']\n"
     ]
    }
   ],
   "source": [
    "filename=\"../data/actual.json\"\n",
    "\n",
    "filename2=\"../data/standard.json\"\n",
    "\n",
    "result=rankroutes(filename, filename2, \"A\", 100, prints=True)\n",
    "print(result)"
   ]
  }
 ],
 "metadata": {
  "kernelspec": {
   "display_name": "Python 3",
   "language": "python",
   "name": "python3"
  },
  "language_info": {
   "codemirror_mode": {
    "name": "ipython",
    "version": 3
   },
   "file_extension": ".py",
   "mimetype": "text/x-python",
   "name": "python",
   "nbconvert_exporter": "python",
   "pygments_lexer": "ipython3",
   "version": "3.8.10"
  }
 },
 "nbformat": 4,
 "nbformat_minor": 2
}
