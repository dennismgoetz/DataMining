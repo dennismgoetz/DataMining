{
 "cells": [
  {
   "cell_type": "code",
   "execution_count": 1,
   "metadata": {},
   "outputs": [
    {
     "name": "stdout",
     "output_type": "stream",
     "text": [
      "Finding info for driver:  A\n",
      "loading data\n",
      "mapping partition borders\n",
      "converting routes into minhash signatures\n",
      "comparing using jaccard similarity\n",
      "Finding info for driver:  B\n",
      "loading data\n",
      "mapping partition borders\n",
      "converting routes into minhash signatures\n",
      "comparing using jaccard similarity\n",
      "Finding info for driver:  C\n",
      "loading data\n",
      "mapping partition borders\n",
      "converting routes into minhash signatures\n",
      "comparing using jaccard similarity\n",
      "Finding info for driver:  D\n",
      "loading data\n",
      "mapping partition borders\n",
      "converting routes into minhash signatures\n",
      "comparing using jaccard similarity\n",
      "Finding info for driver:  E\n",
      "loading data\n",
      "mapping partition borders\n",
      "converting routes into minhash signatures\n",
      "comparing using jaccard similarity\n",
      "Finding info for driver:  F\n",
      "loading data\n",
      "mapping partition borders\n",
      "converting routes into minhash signatures\n",
      "comparing using jaccard similarity\n",
      "Finding info for driver:  G\n",
      "loading data\n",
      "mapping partition borders\n",
      "converting routes into minhash signatures\n",
      "comparing using jaccard similarity\n",
      "Finding info for driver:  H\n",
      "loading data\n",
      "mapping partition borders\n",
      "converting routes into minhash signatures\n",
      "comparing using jaccard similarity\n",
      "Finding info for driver:  I\n",
      "loading data\n",
      "mapping partition borders\n",
      "converting routes into minhash signatures\n",
      "comparing using jaccard similarity\n",
      "Finding info for driver:  J\n",
      "loading data\n",
      "mapping partition borders\n",
      "converting routes into minhash signatures\n",
      "comparing using jaccard similarity\n"
     ]
    },
    {
     "data": {
      "text/plain": [
       "True"
      ]
     },
     "execution_count": 1,
     "metadata": {},
     "output_type": "execute_result"
    }
   ],
   "source": [
    "from routemining import createfiles\n",
    "\n",
    "#createfiles(\"../data/actual.json\", \"../data/standard.json\", 1, prints=True)\n",
    "\n",
    "createfiles(\"../data/actual.json\", \"../data/standard.json\", 2, prints=True)"
   ]
  }
 ],
 "metadata": {
  "kernelspec": {
   "display_name": "Python 3",
   "language": "python",
   "name": "python3"
  },
  "language_info": {
   "codemirror_mode": {
    "name": "ipython",
    "version": 3
   },
   "file_extension": ".py",
   "mimetype": "text/x-python",
   "name": "python",
   "nbconvert_exporter": "python",
   "pygments_lexer": "ipython3",
   "version": "3.8.10"
  }
 },
 "nbformat": 4,
 "nbformat_minor": 2
}
