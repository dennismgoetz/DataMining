{
 "cells": [
  {
   "cell_type": "code",
   "execution_count": null,
   "metadata": {},
   "outputs": [],
   "source": [
    "def findbestroute(actual_routes_file, driver_id, limit_data=0, prints=False, numperm=128):\n",
    "    \n",
    "    routes=findroutes(actual_routes_file, limit_data, driver_id, prints)\n",
    "    result=rankroutes(actual_routes_file, routes, driver_id, limit_actual_routes=limit_data, prints=prints, numperm3=numperm, findbest=1)\n",
    "    return result"
   ]
  }
 ],
 "metadata": {
  "language_info": {
   "name": "python"
  }
 },
 "nbformat": 4,
 "nbformat_minor": 2
}
