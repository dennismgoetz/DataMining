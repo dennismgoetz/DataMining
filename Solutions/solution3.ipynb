{
 "cells": [
  {
   "cell_type": "code",
   "execution_count": 3,
   "metadata": {},
   "outputs": [],
   "source": [
    "from routemining import findbestroute"
   ]
  },
  {
   "cell_type": "code",
   "execution_count": 7,
   "metadata": {},
   "outputs": [
    {
     "name": "stdout",
     "output_type": "stream",
     "text": [
      "Generating routes\n",
      "Loading data\n",
      "Finding dimension sizes\n",
      "Creating points\n",
      "Clustering points\n",
      "Rebuild dataset\n",
      "Finding frequent routes\n",
      "Choosing best route\n",
      "loading data\n",
      "mapping partition borders\n",
      "converting routes into minhash signatures\n",
      "comparing using jaccard\n",
      "[{'from': 'Rome', 'to': 'Trento', 'merchandise': {'Water': 13.0, 'Rice': 29.0, 'Chocolate': 25.0}}, {'from': 'Trento', 'to': 'Verona', 'merchandise': {'Pens': 3.0, 'Yogurt': 9.0, 'Beer': 16.0, 'Water': 1.0, 'Rice': 2.0, 'Fish': 1.0, 'Bananas': 2.0, 'Pasta': 2.0, 'Cheese': 2.0, 'Tea': 11.0, 'Meat': 7.0, 'Butter': 2.0, 'Honey': 2.0, 'Bread': 17.0, 'Tomatoes': 2.0, 'Milk': 4.0, 'Apples': 2.0, 'Potatoes': 2.0, 'Carrots': 2.0, 'Chocolate': 2.0}}, {'from': 'Verona', 'to': 'Palermo', 'merchandise': {'Yogurt': 28.0, 'Fish': 6.0, 'Bananas': 8.0, 'Butter': 18.0, 'Tea': 28.0}}, {'from': 'Palermo', 'to': 'Pisa', 'merchandise': {'Beer': 9.0, 'Rice': 26.0, 'Fish': 14.0, 'Apples': 27.0, 'Meat': 12.0}}]\n"
     ]
    }
   ],
   "source": [
    "filename=\"../data/actual.json\"\n",
    "\n",
    "result=findbestroute(filename, \"C\", prints=True, printsalot=True)\n",
    "print(result)"
   ]
  }
 ],
 "metadata": {
  "kernelspec": {
   "display_name": "Python 3",
   "language": "python",
   "name": "python3"
  },
  "language_info": {
   "codemirror_mode": {
    "name": "ipython",
    "version": 3
   },
   "file_extension": ".py",
   "mimetype": "text/x-python",
   "name": "python",
   "nbconvert_exporter": "python",
   "pygments_lexer": "ipython3",
   "version": "3.8.10"
  }
 },
 "nbformat": 4,
 "nbformat_minor": 2
}
