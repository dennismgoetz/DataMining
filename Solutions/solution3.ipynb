{
 "cells": [
  {
   "cell_type": "code",
   "execution_count": 11,
   "metadata": {},
   "outputs": [],
   "source": [
    "from routemining import rankroutes, findroutes\n",
    "\n",
    "def findbestroute(actual_routes_file, driver_id, limit_data=0, prints1=False, numperm=128):\n",
    "    \n",
    "    if (prints1==True): print(\"Generating routes\")\n",
    "    routes=findroutes(actual_routes_file, limit_data, driver_id, prints=False)\n",
    "    \n",
    "    if (prints1==True): print(\"Choosing best route\")\n",
    "    result=rankroutes(actual_routes_file, routes, driver_id, limit_actual_routes=limit_data, numperm3=numperm, findbest=1, prints=False)\n",
    "    \n",
    "    return result"
   ]
  },
  {
   "cell_type": "code",
   "execution_count": 14,
   "metadata": {},
   "outputs": [
    {
     "name": "stdout",
     "output_type": "stream",
     "text": [
      "Generating routes\n",
      "Choosing best route\n",
      "[{'from': 'Milano', 'to': 'Genova', 'merchandise': {'Pasta': 25.0, 'Meat': 22.0, 'Tea': 16.0}}, {'from': 'Genova', 'to': 'Siena', 'merchandise': {'Pasta': 27.0, 'Meat': 12.0, 'Butter': 3.0, 'Bread': 8.0, 'Pens': 17.0, 'Honey': 11.0}}, {'from': 'Siena', 'to': 'Trento', 'merchandise': {'Tomatoes': 6.0, 'Carrots': 6.0, 'Rice': 3.0, 'Apples': 20.0, 'Honey': 25.0}}]\n"
     ]
    }
   ],
   "source": [
    "filename=\"/home/felix/Documents/Python/DataMining/DataMining/data/actual.json\"\n",
    "\n",
    "result=findbestroute(filename, \"C\", 100, prints1=True)\n",
    "print(result)"
   ]
  }
 ],
 "metadata": {
  "kernelspec": {
   "display_name": "Python 3",
   "language": "python",
   "name": "python3"
  },
  "language_info": {
   "codemirror_mode": {
    "name": "ipython",
    "version": 3
   },
   "file_extension": ".py",
   "mimetype": "text/x-python",
   "name": "python",
   "nbconvert_exporter": "python",
   "pygments_lexer": "ipython3",
   "version": "3.8.10"
  }
 },
 "nbformat": 4,
 "nbformat_minor": 2
}
