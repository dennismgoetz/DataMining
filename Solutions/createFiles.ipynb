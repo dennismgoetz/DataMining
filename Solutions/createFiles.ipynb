{
 "cells": [
  {
   "cell_type": "code",
   "execution_count": 1,
   "metadata": {},
   "outputs": [],
   "source": [
    "def createfiles(filename_actual, filename_sort, tasknumber ,limit_actual_routes=0, prints=False):\n",
    "    \n",
    "    from routemining import findroutes, rankroutes, findbestroute\n",
    "    import json\n",
    "\n",
    "    def find_drivers(filename):\n",
    "        with open(filename, 'r') as file:\n",
    "            data = json.load(file)\n",
    "\n",
    "        all_drivers=set()\n",
    "\n",
    "        for route in data:\n",
    "            all_drivers.add(route[\"driver\"])\n",
    "\n",
    "        return sorted(all_drivers)\n",
    "    \n",
    "    def create_file(content_file, name_file):\n",
    "        with open(name_file, 'w') as json_file:\n",
    "            json.dump(content_file, json_file)\n",
    "\n",
    "    if tasknumber==1:\n",
    "        #1:\n",
    "        solution1_file=findroutes(filename_actual, limit_actual_routes, prints=prints)\n",
    "        create_file(solution1_file, \"../results/recStandard.json\") \n",
    "    else:\n",
    "        all_drivers=find_drivers(filename_actual)\n",
    "        \n",
    "        solution2_file=[]\n",
    "        solution3_file=[]\n",
    "        \n",
    "        for driver_id in all_drivers:\n",
    "            if (prints==True): print(\"Finding info for driver: \", driver_id)\n",
    "            \n",
    "            #2:\n",
    "            if tasknumber==2:\n",
    "                info1={}\n",
    "                info1['driver']=driver_id\n",
    "                info1['routes']=rankroutes(filename_actual, filename_sort, driver_id, limit_actual_routes, prints=prints)\n",
    "                solution2_file.append(info1)\n",
    "                \n",
    "            #3\n",
    "            if tasknumber==3:\n",
    "                info2={}\n",
    "                info2['driver']=driver_id\n",
    "                info2['route']=findbestroute(filename_actual, driver_id, limit_actual_routes, prints=prints, printsalot=True)\n",
    "                solution3_file.append(info2)\n",
    "\n",
    "        if tasknumber==2: create_file(solution2_file, \"../results/driver.json\") \n",
    "        if tasknumber==3: create_file(solution3_file, \"../results/perfectRoute.json\") \n",
    "\n",
    "    return True"
   ]
  },
  {
   "cell_type": "code",
   "execution_count": 4,
   "metadata": {},
   "outputs": [
    {
     "name": "stdout",
     "output_type": "stream",
     "text": [
      "Loading data\n",
      "Finding dimension sizes\n",
      "Creating points\n",
      "Clustering points\n",
      "Rebuild dataset\n",
      "Finding frequent routes\n",
      "5\n",
      "14\n",
      "6\n"
     ]
    },
    {
     "data": {
      "text/plain": [
       "True"
      ]
     },
     "execution_count": 4,
     "metadata": {},
     "output_type": "execute_result"
    }
   ],
   "source": [
    "createfiles(\"../data/actual.json\", \"../data/standard.json\", 1, prints=True)\n",
    "\n"
   ]
  }
 ],
 "metadata": {
  "kernelspec": {
   "display_name": "Python 3",
   "language": "python",
   "name": "python3"
  },
  "language_info": {
   "codemirror_mode": {
    "name": "ipython",
    "version": 3
   },
   "file_extension": ".py",
   "mimetype": "text/x-python",
   "name": "python",
   "nbconvert_exporter": "python",
   "pygments_lexer": "ipython3",
   "version": "3.8.10"
  }
 },
 "nbformat": 4,
 "nbformat_minor": 2
}
