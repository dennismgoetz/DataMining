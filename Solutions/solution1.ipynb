{
 "cells": [
  {
   "cell_type": "code",
   "execution_count": 1,
   "metadata": {},
   "outputs": [],
   "source": [
    "from routemining import findroutes"
   ]
  },
  {
   "cell_type": "code",
   "execution_count": 3,
   "metadata": {},
   "outputs": [
    {
     "name": "stdout",
     "output_type": "stream",
     "text": [
      "Loading data\n",
      "Finding dimension sizes\n",
      "Creating points\n",
      "Clustering points\n",
      "Rebuild dataset\n",
      "Finding frequent routes\n",
      "[{'id': 's1', 'route': [{'from': 'Milano', 'to': 'Genova', 'merchandise': {'Meat': 22.0, 'Tea': 16.0, 'Pasta': 25.0}}, {'from': 'Genova', 'to': 'Siena', 'merchandise': {'Pens': 17.0, 'Meat': 12.0, 'Bread': 8.0, 'Butter': 3.0, 'Honey': 11.0, 'Pasta': 27.0}}, {'from': 'Siena', 'to': 'Trento', 'merchandise': {'Apples': 20.0, 'Rice': 3.0, 'Tomatoes': 6.0, 'Carrots': 6.0, 'Honey': 25.0}}]}]\n"
     ]
    }
   ],
   "source": [
    "filename=\"../data/actual.json\"\n",
    "result=findroutes(filename, 100, \"C\" , prints=True)\n",
    "print(result)"
   ]
  }
 ],
 "metadata": {
  "kernelspec": {
   "display_name": "base",
   "language": "python",
   "name": "python3"
  },
  "language_info": {
   "codemirror_mode": {
    "name": "ipython",
    "version": 3
   },
   "file_extension": ".py",
   "mimetype": "text/x-python",
   "name": "python",
   "nbconvert_exporter": "python",
   "pygments_lexer": "ipython3",
   "version": "3.8.10"
  }
 },
 "nbformat": 4,
 "nbformat_minor": 4
}
