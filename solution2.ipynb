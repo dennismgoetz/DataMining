{
 "cells": [
  {
   "cell_type": "code",
   "execution_count": 151,
   "metadata": {},
   "outputs": [],
   "source": [
    "import os\n",
    "import json\n",
    "\n",
    "#load data\n",
    "file_name = \"./data/actual.json\"\n",
    "\n",
    "with open(file_name, 'r') as file:\n",
    "    data = json.load(file) \n",
    "data=data[0:1000]"
   ]
  },
  {
   "cell_type": "code",
   "execution_count": 152,
   "metadata": {},
   "outputs": [
    {
     "name": "stdout",
     "output_type": "stream",
     "text": [
      "['Bananas', 'Potatoes', 'Pasta', 'Bologna', 'Milano', 'Siena', 'Pens', 'Cheese', 'Beer', 'Chocolate']\n",
      "30\n"
     ]
    }
   ],
   "source": [
    "#find vector dimensions for occurrence of city and merchandise in one route so all \n",
    "#cities and merchandise characterize a route\n",
    "vector=set()\n",
    "for route in data:\n",
    "    for trip in route[\"route\"]:\n",
    "        vector.update([trip[\"from\"],trip[\"to\"]])\n",
    "        for merch in trip[\"merchandise\"]:\n",
    "            vector.update([merch])\n",
    "print(list(vector)[:10])\n",
    "print(len(vector))  "
   ]
  },
  {
   "cell_type": "code",
   "execution_count": 153,
   "metadata": {},
   "outputs": [
    {
     "name": "stdout",
     "output_type": "stream",
     "text": [
      "['Verona-Lecce', 'Lecce-Bolzano', 'Bologna-Verona', 'Rome-Bologna', 'Pens', 'Bologna-Rome', 'Padua-Milano', 'Tomatoes', 'Siena-Verona', 'Padua-Bologna']\n",
      "79\n"
     ]
    }
   ],
   "source": [
    "#find vector dimensions for combination of cities (so a connection between cities)\n",
    "#and occurrence of a specific merchandise in the entire route\n",
    "vector=set()\n",
    "for route in data:\n",
    "    for trip in route[\"route\"]:\n",
    "        vector.update([trip[\"from\"]+\"-\"+trip[\"to\"]])\n",
    "        for merch in trip[\"merchandise\"]:\n",
    "            vector.update([merch])\n",
    "print(list(vector)[:10])\n",
    "print(len(vector))  "
   ]
  },
  {
   "cell_type": "code",
   "execution_count": 154,
   "metadata": {},
   "outputs": [
    {
     "name": "stdout",
     "output_type": "stream",
     "text": [
      "['Verona-Genova-Pasta', 'Trento-Rome-Bread', 'Lecce-Padua-Butter', 'Siena-Trento-Chocolate', 'Genova-Lecce-Fish', 'Padua-Rome-Water', 'Trento-Padua-Rice', 'Milano-Verona-Rice', 'Milano-Trento-Cheese', 'Trento-Bologna-Cheese']\n",
      "620\n"
     ]
    }
   ],
   "source": [
    "#find vector dimensions for combination of cities (so a connection between cities) in\n",
    "#combination with the merchandise that is carried on that route\n",
    "vector=set()\n",
    "for route in data:\n",
    "    for trip in route[\"route\"]:\n",
    "        for merch in trip[\"merchandise\"]:\n",
    "            vector.update([trip[\"from\"]+\"-\"+trip[\"to\"]+\"-\"+merch])\n",
    "print(list(vector)[:10])\n",
    "print(len(vector))  "
   ]
  },
  {
   "cell_type": "code",
   "execution_count": 155,
   "metadata": {},
   "outputs": [
    {
     "name": "stdout",
     "output_type": "stream",
     "text": [
      "['Padua-Milano-Apples-13', 'Trento-Padua-Tea-30', 'Verona-Bolzano-Water-12', 'Lecce-Padua-Honey-4', 'Lecce-Padua-Fish-22', 'Bolzano-Rome-Fish-12', 'Lecce-Padua-Butter-22', 'Genova-Rome-Meat-22', 'Trento-Bologna-Beer-28', 'Trento-Rome-Meat-30']\n",
      "1380\n"
     ]
    }
   ],
   "source": [
    "#find vector dimensions for combination of cities (so a connection between cities) in\n",
    "#combination with the merchandise and the amount that is carried on that route\n",
    "vector=set()\n",
    "for route in data:\n",
    "    for trip in route[\"route\"]:\n",
    "        for merch in trip[\"merchandise\"]:\n",
    "            vector.update([trip[\"from\"]+\"-\"+trip[\"to\"]+\"-\"+merch+\"-\"+str(trip[\"merchandise\"][merch])])\n",
    "print(list(vector)[:10])\n",
    "print(len(vector))"
   ]
  },
  {
   "cell_type": "code",
   "execution_count": 161,
   "metadata": {},
   "outputs": [
    {
     "name": "stdout",
     "output_type": "stream",
     "text": [
      "['Trento-Verona-Tea-large', 'Trento-Rome-Bread', 'Padua-Milano-Milk-large', 'Lecce-Rome-Bread-large', 'Milano-Trento-Cheese', 'Trento-Padua-Rice', 'Milano-Verona-Rice', 'Lecce-Verona-Yogurt-small', 'Trento-Rome-Milk-medium', 'Lecce-Padua-Pens-small', 'Trento-Lecce-Milk-large', 'Rome-Milano-Yogurt', 'Genova-Verona-Rice', 'Lecce-Bologna-Tomatoes-small', 'Padua-Milano-Potatoes-large', 'Milano-Padua-Chocolate', 'Milano-Verona-Meat-large', 'Trento-Lecce-Rice-large', 'Siena-Lecce-Cheese-medium', 'Bologna-Rome-Beer']\n",
      "1010\n",
      "{'Milano-Genova-Tea': 849, 'Milano-Genova-Meat': 849, 'Milano-Genova-Pasta': 849, 'Milano-Genova-Water': 798, 'Genova-Siena-Pasta': 865, 'Genova-Siena-Pens': 878, 'Genova-Siena-Meat': 869, 'Genova-Siena-Honey': 876, 'Genova-Siena-Butter': 868, 'Genova-Siena-Bread': 819, 'Siena-Trento-Carrots': 884, 'Siena-Trento-Honey': 885, 'Siena-Trento-Tomatoes': 830, 'Siena-Trento-Rice': 886, 'Siena-Trento-Apples': 890, 'Trento-Lecce-Pasta': 764, 'Trento-Lecce-Fish': 709, 'Trento-Lecce-Apples': 764, 'Trento-Lecce-Milk': 704, 'Lecce-Bologna-Water': 664, 'Lecce-Bologna-Tea': 734, 'Lecce-Bologna-Apples': 731, 'Lecce-Bologna-Potatoes': 732, 'Lecce-Bologna-Bananas': 713, 'Lecce-Bologna-Tomatoes': 707, 'Bologna-Bolzano-Potatoes': 873, 'Bologna-Bolzano-Cheese': 878, 'Bologna-Bolzano-Beer': 882, 'Bologna-Bolzano-Chocolate': 873, 'Bologna-Bolzano-Water': 821, 'Bolzano-Rome-Bread': 2, 'Bolzano-Rome-Fish': 3, 'Bolzano-Rome-Butter': 2, 'Rome-Padua-Pasta': 3, 'Rome-Padua-Meat': 1, 'Rome-Padua-Carrots': 1, 'Trento-Padua-Tomatoes': 3, 'Trento-Padua-Pens': 2, 'Trento-Padua-Tea': 3, 'Padua-Lecce-Pasta': 10, 'Padua-Lecce-Fish': 10, 'Padua-Lecce-Apples': 10, 'Padua-Lecce-Milk': 10, 'Genova-Padua-Pasta': 2, 'Genova-Padua-Apples': 2, 'Genova-Padua-Rice': 3, 'Padua-Siena-Pasta': 7, 'Padua-Siena-Pens': 5, 'Padua-Siena-Meat': 5, 'Padua-Siena-Honey': 7, 'Padua-Siena-Butter': 7, 'Padua-Siena-Bread': 6, 'Lecce-Rome-Apples': 3, 'Lecce-Rome-Tomatoes': 2, 'Lecce-Rome-Honey': 2, 'Lecce-Rome-Rice': 2, 'Lecce-Rome-Carrots': 1, 'Rome-Bologna-Water': 7, 'Rome-Bologna-Tea': 10, 'Rome-Bologna-Apples': 10, 'Rome-Bologna-Bananas': 10, 'Rome-Bologna-Tomatoes': 10, 'Trento-Bologna-Water': 162, 'Trento-Bologna-Tea': 163, 'Trento-Bologna-Apples': 165, 'Trento-Bologna-Potatoes': 163, 'Trento-Bologna-Bananas': 134, 'Trento-Bologna-Tomatoes': 126, 'Lecce-Padua-Fish': 3, 'Lecce-Padua-Carrots': 5, 'Lecce-Padua-Bananas': 2, 'Padua-Bologna-Water': 9, 'Padua-Bologna-Apples': 6, 'Padua-Bologna-Potatoes': 9, 'Padua-Bologna-Bananas': 8, 'Padua-Bologna-Tomatoes': 6, 'Siena-Verona-Honey': 4, 'Siena-Verona-Bread': 4, 'Siena-Verona-Tea': 2, 'Siena-Verona-Bananas': 3, 'Siena-Verona-Beer': 2, 'Siena-Verona-Rice': 1, 'Verona-Trento-Carrots': 7, 'Verona-Trento-Honey': 7, 'Verona-Trento-Tomatoes': 7, 'Verona-Trento-Rice': 7, 'Verona-Trento-Apples': 7, 'Milano-Genova-Honey': 54, 'Milano-Genova-Chocolate': 61, 'Siena-Trento-Chocolate': 47, 'Trento-Lecce-Chocolate': 47, 'Trento-Lecce-Honey': 55, 'Milano-Genova-Tomatoes': 4, 'Trento-Lecce-Cheese': 40, 'Lecce-Bolzano-Potatoes': 39, 'Lecce-Bolzano-Cheese': 41, 'Lecce-Bolzano-Beer': 41, 'Lecce-Bolzano-Chocolate': 42, 'Lecce-Bolzano-Water': 41, 'Lecce-Rome-Milk': 3, 'Lecce-Rome-Tea': 1, 'Lecce-Rome-Bread': 3, 'Lecce-Rome-Yogurt': 4, 'Rome-Bologna-Potatoes': 9, 'Genova-Padua-Potatoes': 2, 'Genova-Padua-Carrots': 1, 'Genova-Padua-Beer': 1, 'Genova-Padua-Meat': 2, 'Lecce-Padua-Pens': 3, 'Lecce-Padua-Water': 3, 'Lecce-Padua-Tomatoes': 2, 'Lecce-Padua-Bread': 3, 'Padua-Rome-Pasta': 2, 'Padua-Rome-Water': 2, 'Padua-Rome-Apples': 1, 'Padua-Rome-Pens': 2, 'Milano-Siena-Pasta': 35, 'Milano-Siena-Pens': 36, 'Milano-Siena-Meat': 36, 'Milano-Siena-Honey': 35, 'Milano-Siena-Butter': 35, 'Milano-Siena-Bread': 30, 'Milano-Siena-Beer': 4, 'Milano-Siena-Cheese': 3, 'Trento-Lecce-Beer': 43, 'Bologna-Verona-Honey': 3, 'Bologna-Verona-Apples': 3, 'Bologna-Verona-Bread': 3, 'Bologna-Verona-Bananas': 4, 'Bologna-Verona-Meat': 2, 'Verona-Bolzano-Potatoes': 8, 'Verona-Bolzano-Cheese': 8, 'Verona-Bolzano-Beer': 8, 'Verona-Bolzano-Chocolate': 8, 'Verona-Bolzano-Water': 8, 'Genova-Trento-Carrots': 30, 'Genova-Trento-Honey': 30, 'Genova-Trento-Tomatoes': 29, 'Genova-Trento-Rice': 31, 'Genova-Trento-Apples': 28, 'Trento-Lecce-Potatoes': 5, 'Trento-Lecce-Butter': 5, 'Milano-Genova-Cheese': 48, 'Milano-Genova-Rice': 4, 'Lecce-Bologna-Honey': 45, 'Bologna-Bolzano-Honey': 42, 'Milano-Genova-Beer': 48, 'Genova-Trento-Beer': 9, 'Siena-Lecce-Pasta': 34, 'Siena-Lecce-Fish': 34, 'Siena-Lecce-Apples': 34, 'Siena-Lecce-Milk': 34, 'Bologna-Padua-Pens': 1, 'Bologna-Padua-Carrots': 3, 'Bologna-Padua-Bread': 2, 'Bologna-Padua-Chocolate': 2, 'Padua-Bolzano-Potatoes': 6, 'Padua-Bolzano-Cheese': 4, 'Padua-Bolzano-Beer': 6, 'Padua-Bolzano-Chocolate': 6, 'Bolzano-Rome-Potatoes': 2, 'Bolzano-Rome-Tea': 1, 'Bolzano-Rome-Pens': 1, 'Bolzano-Rome-Carrots': 2, 'Lecce-Bologna-Chocolate': 48, 'Siena-Trento-Beer': 46, 'Siena-Trento-Cheese': 50, 'Trento-Padua-Honey': 4, 'Trento-Padua-Milk': 2, 'Trento-Padua-Apples': 2, 'Trento-Padua-Rice': 1, 'Genova-Siena-Cheese': 41, 'Siena-Lecce-Beer': 11, 'Siena-Lecce-Cheese': 9, 'Lecce-Bologna-Cheese': 44, 'Milano-Genova-Yogurt': 3, 'Genova-Verona-Potatoes': 2, 'Genova-Verona-Meat': 2, 'Genova-Verona-Bread': 4, 'Genova-Verona-Pasta': 2, 'Genova-Verona-Honey': 2, 'Verona-Siena-Pasta': 8, 'Verona-Siena-Pens': 8, 'Verona-Siena-Meat': 8, 'Verona-Siena-Honey': 8, 'Verona-Siena-Butter': 8, 'Verona-Siena-Bread': 8, 'Genova-Trento-Cheese': 6, 'Genova-Siena-Chocolate': 42, 'Trento-Lecce-Water': 5, 'Trento-Lecce-Tea': 3, 'Lecce-Bologna-Beer': 37, 'Milano-Padua-Tea': 2, 'Milano-Padua-Milk': 2, 'Milano-Padua-Bananas': 2, 'Padua-Genova-Tea': 4, 'Padua-Genova-Meat': 4, 'Padua-Genova-Pasta': 4, 'Padua-Genova-Water': 4, 'Siena-Rome-Pasta': 2, 'Siena-Rome-Bananas': 2, 'Siena-Rome-Apples': 4, 'Siena-Rome-Yogurt': 2, 'Rome-Trento-Carrots': 9, 'Rome-Trento-Honey': 9, 'Rome-Trento-Tomatoes': 9, 'Rome-Trento-Rice': 9, 'Rome-Trento-Apples': 6, 'Trento-Verona-Apples': 2, 'Trento-Verona-Cheese': 5, 'Trento-Verona-Rice': 3, 'Trento-Verona-Pasta': 2, 'Trento-Verona-Tea': 3, 'Verona-Lecce-Pasta': 8, 'Verona-Lecce-Fish': 5, 'Verona-Lecce-Apples': 8, 'Milano-Genova-Fish': 2, 'Trento-Lecce-Bread': 8, 'Bologna-Padua-Fish': 2, 'Bologna-Padua-Pasta': 3, 'Bologna-Padua-Apples': 2, 'Bologna-Padua-Cheese': 2, 'Padua-Rome-Butter': 2, 'Padua-Rome-Chocolate': 1, 'Padua-Rome-Yogurt': 1, 'Padua-Rome-Tea': 2, 'Rome-Bolzano-Potatoes': 6, 'Rome-Bolzano-Cheese': 7, 'Rome-Bolzano-Beer': 7, 'Rome-Bolzano-Chocolate': 6, 'Genova-Siena-Beer': 41, 'Milano-Verona-Pens': 4, 'Milano-Verona-Carrots': 3, 'Milano-Verona-Yogurt': 5, 'Milano-Verona-Potatoes': 2, 'Milano-Verona-Chocolate': 3, 'Verona-Genova-Tea': 10, 'Verona-Genova-Meat': 10, 'Verona-Genova-Pasta': 10, 'Bologna-Verona-Cheese': 4, 'Bologna-Verona-Beer': 2, 'Bologna-Verona-Rice': 2, 'Bologna-Verona-Potatoes': 2, 'Bologna-Verona-Pasta': 2, 'Milano-Genova-Pens': 3, 'Trento-Lecce-Meat': 5, 'Rome-Milano-Carrots': 3, 'Rome-Milano-Milk': 2, 'Rome-Milano-Chocolate': 3, 'Siena-Padua-Butter': 4, 'Siena-Padua-Yogurt': 3, 'Siena-Padua-Rice': 1, 'Siena-Padua-Tea': 3, 'Padua-Trento-Carrots': 8, 'Padua-Trento-Honey': 6, 'Padua-Trento-Tomatoes': 6, 'Padua-Trento-Rice': 8, 'Padua-Trento-Apples': 7, 'Milano-Genova-Bread': 4, 'Siena-Lecce-Rice': 1, 'Siena-Padua-Honey': 3, 'Siena-Padua-Beer': 2, 'Siena-Padua-Potatoes': 2, 'Lecce-Rome-Pasta': 2, 'Lecce-Rome-Meat': 2, 'Lecce-Rome-Beer': 1, 'Trento-Lecce-Pens': 3, 'Genova-Lecce-Pasta': 3, 'Genova-Lecce-Fish': 3, 'Genova-Lecce-Apples': 3, 'Genova-Lecce-Milk': 3, 'Verona-Milano-Beer': 1, 'Verona-Milano-Butter': 3, 'Verona-Milano-Bread': 3, 'Bologna-Verona-Butter': 2, 'Bologna-Verona-Carrots': 1, 'Bologna-Verona-Chocolate': 2, 'Trento-Bologna-Beer': 13, 'Trento-Bologna-Cheese': 10, 'Milano-Verona-Meat': 2, 'Milano-Verona-Fish': 1, 'Milano-Verona-Butter': 4, 'Milano-Verona-Bread': 3, 'Padua-Milano-Cheese': 1, 'Padua-Milano-Beer': 1, 'Padua-Milano-Potatoes': 6, 'Padua-Milano-Chocolate': 1, 'Padua-Milano-Tea': 3, 'Siena-Rome-Honey': 5, 'Siena-Rome-Pens': 2, 'Siena-Rome-Water': 1, 'Genova-Verona-Chocolate': 2, 'Genova-Verona-Tea': 4, 'Milano-Genova-Apples': 4, 'Siena-Rome-Cheese': 2, 'Siena-Rome-Rice': 2, 'Lecce-Padua-Chocolate': 4, 'Lecce-Padua-Yogurt': 3, 'Padua-Bologna-Tea': 6, 'Verona-Milano-Fish': 1, 'Verona-Milano-Honey': 1, 'Verona-Milano-Pasta': 1, 'Verona-Milano-Carrots': 1, 'Genova-Lecce-Beer': 2, 'Genova-Lecce-Cheese': 2, 'Rome-Milano-Honey': 2, 'Rome-Milano-Tomatoes': 1, 'Rome-Milano-Yogurt': 1, 'Milano-Verona-Pasta': 3, 'Milano-Verona-Rice': 1, 'Milano-Verona-Beer': 2, 'Verona-Genova-Water': 4, 'Milano-Genova-Milk': 5, 'Trento-Rome-Tea': 2, 'Trento-Rome-Butter': 4, 'Trento-Rome-Beer': 1, 'Trento-Rome-Pens': 1, 'Rome-Padua-Beer': 1, 'Rome-Padua-Bananas': 1, 'Bologna-Verona-Fish': 1, 'Bologna-Verona-Tea': 1, 'Bologna-Verona-Tomatoes': 2, 'Trento-Lecce-Yogurt': 4, 'Trento-Lecce-Carrots': 6, 'Trento-Lecce-Bananas': 5, 'Padua-Milano-Honey': 2, 'Padua-Milano-Meat': 4, 'Lecce-Rome-Fish': 2, 'Padua-Milano-Bread': 2, 'Trento-Verona-Bread': 1, 'Trento-Verona-Meat': 3, 'Trento-Verona-Beer': 3, 'Verona-Lecce-Milk': 4, 'Bologna-Verona-Pens': 1, 'Siena-Bologna-Water': 4, 'Siena-Bologna-Tea': 4, 'Siena-Bologna-Apples': 4, 'Siena-Bologna-Potatoes': 4, 'Siena-Bologna-Bananas': 3, 'Siena-Bologna-Tomatoes': 4, 'Lecce-Padua-Butter': 5, 'Lecce-Padua-Honey': 2, 'Lecce-Padua-Milk': 3, 'Bologna-Rome-Bread': 1, 'Bologna-Rome-Potatoes': 2, 'Bologna-Rome-Yogurt': 2, 'Bologna-Rome-Water': 1, 'Bologna-Rome-Fish': 2, 'Rome-Bolzano-Water': 6, 'Bologna-Padua-Beer': 3, 'Bologna-Padua-Rice': 2, 'Bologna-Padua-Yogurt': 2, 'Padua-Bolzano-Water': 5, 'Milano-Rome-Apples': 1, 'Milano-Rome-Rice': 2, 'Milano-Rome-Chocolate': 2, 'Milano-Rome-Milk': 3, 'Rome-Genova-Tea': 6, 'Rome-Genova-Meat': 6, 'Rome-Genova-Pasta': 6, 'Rome-Genova-Water': 6, 'Lecce-Padua-Apples': 1, 'Genova-Rome-Rice': 3, 'Genova-Rome-Potatoes': 1, 'Genova-Rome-Water': 2, 'Rome-Siena-Pasta': 5, 'Rome-Siena-Pens': 5, 'Rome-Siena-Meat': 6, 'Rome-Siena-Honey': 5, 'Rome-Siena-Bread': 6, 'Genova-Verona-Cheese': 2, 'Genova-Verona-Beer': 2, 'Genova-Verona-Butter': 1, 'Siena-Padua-Carrots': 2, 'Siena-Padua-Water': 2, 'Siena-Padua-Pasta': 1, 'Bolzano-Rome-Honey': 2, 'Bolzano-Rome-Milk': 3, 'Bolzano-Rome-Meat': 2, 'Trento-Verona-Chocolate': 5, 'Trento-Verona-Potatoes': 2, 'Trento-Verona-Water': 1, 'Trento-Verona-Yogurt': 2, 'Milano-Rome-Butter': 2, 'Milano-Rome-Carrots': 3, 'Milano-Rome-Potatoes': 2, 'Lecce-Rome-Cheese': 2, 'Lecce-Rome-Butter': 2, 'Lecce-Rome-Potatoes': 2, 'Lecce-Rome-Pens': 1, 'Rome-Milano-Fish': 4, 'Rome-Milano-Pasta': 1, 'Rome-Milano-Tea': 3, 'Bolzano-Padua-Pasta': 2, 'Bolzano-Padua-Bread': 2, 'Bolzano-Padua-Butter': 1, 'Bolzano-Padua-Beer': 1, 'Lecce-Padua-Rice': 2, 'Lecce-Padua-Beer': 3, 'Lecce-Padua-Tea': 2, 'Padua-Rome-Beer': 2, 'Padua-Rome-Bread': 2, 'Padua-Rome-Honey': 1, 'Siena-Verona-Meat': 4, 'Siena-Verona-Pasta': 2, 'Siena-Verona-Fish': 1, 'Siena-Verona-Yogurt': 1, 'Siena-Verona-Cheese': 1, 'Verona-Milano-Water': 1, 'Verona-Milano-Rice': 1, 'Verona-Milano-Apples': 1, 'Trento-Bolzano-Potatoes': 5, 'Trento-Bolzano-Cheese': 5, 'Trento-Bolzano-Beer': 5, 'Trento-Bolzano-Chocolate': 5, 'Milano-Rome-Pens': 1, 'Trento-Padua-Pasta': 3, 'Trento-Padua-Carrots': 1, 'Lecce-Verona-Yogurt': 2, 'Lecce-Verona-Carrots': 2, 'Lecce-Verona-Apples': 1, 'Lecce-Verona-Bananas': 2, 'Lecce-Verona-Beer': 2, 'Lecce-Verona-Chocolate': 1, 'Verona-Bologna-Tea': 3, 'Verona-Bologna-Apples': 3, 'Verona-Bologna-Potatoes': 3, 'Verona-Bologna-Bananas': 3, 'Verona-Bologna-Tomatoes': 3, 'Siena-Verona-Butter': 3, 'Siena-Verona-Potatoes': 1, 'Siena-Verona-Pens': 1, 'Siena-Verona-Chocolate': 2, 'Milano-Genova-Bananas': 4, 'Trento-Padua-Beer': 3, 'Trento-Padua-Chocolate': 1, 'Trento-Bolzano-Water': 4, 'Siena-Padua-Milk': 2, 'Milano-Verona-Bananas': 2, 'Milano-Rome-Meat': 1, 'Milano-Rome-Bananas': 2, 'Bolzano-Padua-Fish': 1, 'Bolzano-Padua-Chocolate': 2, 'Bolzano-Padua-Pens': 2, 'Bolzano-Padua-Cheese': 2, 'Bolzano-Padua-Water': 3, 'Trento-Rome-Meat': 2, 'Trento-Rome-Water': 2, 'Trento-Rome-Milk': 5, 'Trento-Rome-Chocolate': 3, 'Rome-Lecce-Pasta': 6, 'Rome-Lecce-Fish': 6, 'Rome-Lecce-Apples': 6, 'Rome-Lecce-Milk': 6, 'Bolzano-Verona-Carrots': 3, 'Bolzano-Verona-Rice': 2, 'Bolzano-Verona-Chocolate': 2, 'Rome-Milano-Beer': 2, 'Rome-Milano-Apples': 1, 'Trento-Verona-Butter': 3, 'Trento-Rome-Pasta': 1, 'Trento-Rome-Cheese': 1, 'Milano-Trento-Carrots': 2, 'Milano-Trento-Honey': 2, 'Milano-Trento-Tomatoes': 2, 'Milano-Trento-Rice': 2, 'Milano-Trento-Apples': 2, 'Milano-Trento-Cheese': 1, 'Siena-Lecce-Yogurt': 1, 'Lecce-Verona-Milk': 1, 'Lecce-Verona-Water': 1, 'Verona-Bologna-Water': 2, 'Bolzano-Padua-Potatoes': 2, 'Trento-Padua-Meat': 2, 'Trento-Padua-Butter': 2, 'Bologna-Rome-Apples': 2, 'Bologna-Rome-Pens': 2, 'Bologna-Rome-Pasta': 1, 'Milano-Genova-Potatoes': 3, 'Bologna-Padua-Meat': 1, 'Bologna-Padua-Potatoes': 1, 'Trento-Verona-Carrots': 3, 'Trento-Verona-Honey': 1, 'Trento-Lecce-Tomatoes': 2, 'Siena-Padua-Fish': 1, 'Siena-Padua-Apples': 1, 'Bolzano-Verona-Tomatoes': 2, 'Bolzano-Verona-Butter': 2, 'Bolzano-Verona-Yogurt': 1, 'Genova-Padua-Fish': 2, 'Genova-Padua-Chocolate': 3, 'Genova-Padua-Milk': 1, 'Bologna-Rome-Honey': 2, 'Bologna-Rome-Beer': 1, 'Siena-Rome-Potatoes': 2, 'Padua-Milano-Bananas': 1, 'Padua-Milano-Pasta': 3, 'Padua-Milano-Butter': 3, 'Padua-Milano-Rice': 1, 'Bolzano-Rome-Yogurt': 1, 'Bolzano-Rome-Chocolate': 1, 'Bologna-Padua-Water': 1, 'Bologna-Padua-Tea': 1, 'Verona-Milano-Cheese': 1, 'Genova-Padua-Butter': 1, 'Genova-Padua-Bananas': 3, 'Bolzano-Rome-Bananas': 1, 'Bolzano-Rome-Apples': 1, 'Bolzano-Rome-Beer': 1, 'Trento-Rome-Bananas': 1, 'Trento-Rome-Apples': 2, 'Bolzano-Rome-Pasta': 1, 'Bolzano-Rome-Water': 1, 'Rome-Padua-Tomatoes': 1, 'Rome-Padua-Apples': 2, 'Rome-Padua-Chocolate': 1, 'Rome-Padua-Cheese': 1, 'Rome-Milano-Butter': 1, 'Rome-Milano-Water': 2, 'Rome-Milano-Bananas': 1, 'Padua-Milano-Milk': 2, 'Trento-Lecce-Rice': 4, 'Siena-Rome-Tea': 2, 'Trento-Padua-Fish': 2, 'Genova-Verona-Milk': 1, 'Genova-Verona-Rice': 1, 'Genova-Verona-Carrots': 1, 'Genova-Verona-Pens': 1, 'Trento-Padua-Potatoes': 1, 'Siena-Lecce-Bananas': 2, 'Trento-Padua-Bananas': 1, 'Bologna-Rome-Milk': 2, 'Rome-Milano-Cheese': 1, 'Lecce-Rome-Water': 1, 'Rome-Padua-Yogurt': 1, 'Trento-Verona-Tomatoes': 2, 'Siena-Rome-Carrots': 2, 'Siena-Rome-Butter': 4, 'Genova-Padua-Water': 1, 'Trento-Rome-Rice': 1, 'Trento-Rome-Honey': 1, 'Trento-Rome-Bread': 1, 'Genova-Rome-Pens': 2, 'Genova-Rome-Fish': 1, 'Genova-Rome-Cheese': 1, 'Rome-Siena-Butter': 2, 'Siena-Padua-Bananas': 2, 'Siena-Padua-Bread': 1, 'Milano-Genova-Carrots': 3, 'Bolzano-Verona-Pasta': 1, 'Bolzano-Verona-Bread': 1, 'Milano-Verona-Honey': 2, 'Padua-Milano-Tomatoes': 2, 'Padua-Milano-Yogurt': 2, 'Trento-Rome-Tomatoes': 1, 'Trento-Rome-Fish': 1, 'Bolzano-Verona-Pens': 1, 'Bolzano-Verona-Potatoes': 1, 'Bolzano-Verona-Milk': 1, 'Bolzano-Verona-Water': 1, 'Genova-Verona-Apples': 2, 'Genova-Verona-Tomatoes': 2, 'Padua-Milano-Water': 1, 'Padua-Milano-Apples': 3, 'Genova-Rome-Bananas': 1, 'Genova-Rome-Pasta': 1, 'Genova-Rome-Carrots': 1, 'Genova-Padua-Yogurt': 1, 'Genova-Padua-Cheese': 1, 'Bologna-Rome-Chocolate': 2, 'Bologna-Rome-Rice': 2, 'Bologna-Rome-Tea': 1, 'Padua-Milano-Carrots': 1, 'Siena-Bologna-Beer': 1, 'Milano-Verona-Water': 1, 'Milano-Verona-Tea': 2, 'Milano-Verona-Apples': 2, 'Siena-Padua-Cheese': 1, 'Siena-Padua-Pens': 1, 'Milano-Padua-Pasta': 1, 'Milano-Padua-Apples': 1, 'Milano-Padua-Beer': 1, 'Trento-Rome-Yogurt': 1, 'Milano-Verona-Cheese': 1, 'Milano-Verona-Tomatoes': 1, 'Rome-Milano-Meat': 1, 'Genova-Rome-Tomatoes': 1, 'Genova-Rome-Yogurt': 1, 'Genova-Rome-Meat': 2, 'Lecce-Padua-Meat': 1, 'Trento-Verona-Pens': 1, 'Padua-Rome-Rice': 1, 'Milano-Rome-Bread': 1, 'Padua-Milano-Pens': 1, 'Bolzano-Rome-Cheese': 1, 'Siena-Rome-Milk': 1, 'Bolzano-Padua-Milk': 1, 'Bolzano-Padua-Meat': 1, 'Bolzano-Padua-Tomatoes': 2, 'Bolzano-Padua-Honey': 1, 'Lecce-Verona-Tomatoes': 1, 'Lecce-Verona-Honey': 1, 'Genova-Rome-Tea': 2, 'Genova-Rome-Butter': 1, 'Bologna-Padua-Tomatoes': 1, 'Milano-Genova-Butter': 2, 'Milano-Padua-Potatoes': 2, 'Milano-Padua-Chocolate': 1, 'Milano-Padua-Tomatoes': 1, 'Siena-Lecce-Pens': 1, 'Siena-Rome-Fish': 2, 'Bolzano-Padua-Tea': 1, 'Trento-Padua-Bread': 1, 'Bolzano-Verona-Apples': 1, 'Bolzano-Verona-Fish': 1, 'Bolzano-Verona-Cheese': 1, 'Milano-Rome-Beer': 1, 'Milano-Rome-Honey': 1, 'Milano-Rome-Fish': 1, 'Milano-Padua-Carrots': 1}\n",
      "Found elements in the set starting with 'Bolzano-Rome-Fish': ['Bolzano-Rome-Fish-large', 'Bolzano-Rome-Fish-small']\n"
     ]
    }
   ],
   "source": [
    "#find vector dimensions for combination of cities (so a connection between cities) in\n",
    "#combination with the merchandise and the amount that is carried on that route where \n",
    "#the amount is specified by a indicator (small, medium, large)\n",
    "#to do that the max and min is found for every merchandise\n",
    "mapminmax={}\n",
    "possiblecomb={}\n",
    "vector=set()\n",
    "\n",
    "for route in data:\n",
    "    for trip in route[\"route\"]:\n",
    "        for merch in trip[\"merchandise\"]:\n",
    "            if trip[\"from\"]+\"-\"+trip[\"to\"]+\"-\"+merch+\"-min\" in mapminmax:\n",
    "                mapminmax[trip[\"from\"]+\"-\"+trip[\"to\"]+\"-\"+merch+\"-min\"]=min(mapminmax[trip[\"from\"]+\"-\"+trip[\"to\"]+\"-\"+merch+\"-min\"], trip[\"merchandise\"][merch])\n",
    "            else:\n",
    "                mapminmax[trip[\"from\"]+\"-\"+trip[\"to\"]+\"-\"+merch+\"-min\"]= trip[\"merchandise\"][merch]\n",
    "            if trip[\"from\"]+\"-\"+trip[\"to\"]+\"-\"+merch+\"-max\" in mapminmax:\n",
    "                mapminmax[trip[\"from\"]+\"-\"+trip[\"to\"]+\"-\"+merch+\"-max\"]=max(mapminmax[trip[\"from\"]+\"-\"+trip[\"to\"]+\"-\"+merch+\"-max\"], trip[\"merchandise\"][merch])\n",
    "            else:\n",
    "                mapminmax[trip[\"from\"]+\"-\"+trip[\"to\"]+\"-\"+merch+\"-max\"]= trip[\"merchandise\"][merch]\n",
    "            \n",
    "            if trip[\"from\"]+\"-\"+trip[\"to\"]+\"-\"+merch in possiblecomb:\n",
    "                possiblecomb[trip[\"from\"]+\"-\"+trip[\"to\"]+\"-\"+merch]=possiblecomb[trip[\"from\"]+\"-\"+trip[\"to\"]+\"-\"+merch]+1\n",
    "            else:\n",
    "                possiblecomb[trip[\"from\"]+\"-\"+trip[\"to\"]+\"-\"+merch]=1\n",
    "\n",
    "mapborders={}\n",
    "for item in possiblecomb:\n",
    "    if possiblecomb[item]>1:\n",
    "        smallmediumborder=mapminmax[item+\"-\"+\"min\"]+((1/3)*(mapminmax[item+\"-\"+\"max\"]-mapminmax[item+\"-\"+\"min\"]))\n",
    "        mediumlargeborder=mapminmax[item+\"-\"+\"min\"]+((2/3)*(mapminmax[item+\"-\"+\"max\"]-mapminmax[item+\"-\"+\"min\"]))\n",
    "        mapborders[item]=[smallmediumborder, mediumlargeborder]\n",
    "    else:\n",
    "        mapborders[item]=[0]\n",
    "\n",
    "\n",
    "for route in data:\n",
    "    for trip in route[\"route\"]:\n",
    "        for merch in trip[\"merchandise\"]:\n",
    "            if mapborders[trip[\"from\"]+\"-\"+trip[\"to\"]+\"-\"+merch][0]==0:\n",
    "                vector.update([trip[\"from\"]+\"-\"+trip[\"to\"]+\"-\"+merch])\n",
    "            else:\n",
    "                if trip[\"merchandise\"][merch]<mapborders[trip[\"from\"]+\"-\"+trip[\"to\"]+\"-\"+merch][0]:\n",
    "                    vector.update([trip[\"from\"]+\"-\"+trip[\"to\"]+\"-\"+merch+\"-\"+\"small\"])\n",
    "                elif trip[\"merchandise\"][merch]>mapborders[trip[\"from\"]+\"-\"+trip[\"to\"]+\"-\"+merch][1]:\n",
    "                    vector.update([trip[\"from\"]+\"-\"+trip[\"to\"]+\"-\"+merch+\"-\"+\"large\"])\n",
    "                else:\n",
    "                    vector.update([trip[\"from\"]+\"-\"+trip[\"to\"]+\"-\"+merch+\"-\"+\"medium\"])\n",
    "\n",
    "print(list(vector)[:20])\n",
    "print(len(vector))\n",
    "print(possiblecomb)\n",
    "\n",
    "\n",
    "my_set = vector\n",
    "prefix_to_search = \"Bolzano-Rome-Fish\"\n",
    "\n",
    "# Check if any element in the set starts with the specified prefix\n",
    "matching_elements = [element for element in my_set if element.startswith(prefix_to_search)]\n",
    "\n",
    "if matching_elements:\n",
    "    print(f\"Found elements in the set starting with '{prefix_to_search}': {matching_elements}\")\n",
    "else:\n",
    "    print(f\"No elements found in the set starting with '{prefix_to_search}'.\")\n"
   ]
  }
 ],
 "metadata": {
  "kernelspec": {
   "display_name": "Python 3",
   "language": "python",
   "name": "python3"
  },
  "language_info": {
   "codemirror_mode": {
    "name": "ipython",
    "version": 3
   },
   "file_extension": ".py",
   "mimetype": "text/x-python",
   "name": "python",
   "nbconvert_exporter": "python",
   "pygments_lexer": "ipython3",
   "version": "3.8.10"
  }
 },
 "nbformat": 4,
 "nbformat_minor": 2
}
