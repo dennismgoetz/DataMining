{
 "cells": [
  {
   "cell_type": "code",
   "execution_count": null,
   "metadata": {},
   "outputs": [],
   "source": [
    "from routemining import createfiles\n",
    "\n",
    "createfiles(\"../data/actual20.json\", \"../data/standard20.json\", \"../results/recStandard20.json\", 1, prints=True)\n",
    "\n",
    "createfiles(\"../data/actual20.json\", \"../data/standard20.json\", \"../results/driver20.json\",2, prints=True)\n",
    "\n",
    "createfiles(\"../data/actual20.json\", \"../data/standard20.json\", \"../results/perfectRoute20.json\", 3,  prints=True, printsalot=True)"
   ]
  }
 ],
 "metadata": {
  "language_info": {
   "name": "python"
  }
 },
 "nbformat": 4,
 "nbformat_minor": 2
}
