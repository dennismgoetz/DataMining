{
 "cells": [
  {
   "cell_type": "markdown",
   "metadata": {},
   "source": [
    "# **Functions to compute a similarity score**"
   ]
  },
  {
   "cell_type": "code",
   "execution_count": 1,
   "metadata": {},
   "outputs": [
    {
     "name": "stdout",
     "output_type": "stream",
     "text": [
      "Functions for data generation successfully loaded.\n"
     ]
    }
   ],
   "source": [
    "import numpy as np\n",
    "import copy\n",
    "from tqdm import tqdm\n",
    "\n",
    "# run notebook to load function show_route() to visualize routes\n",
    "%run \"functions_data_generation.ipynb\""
   ]
  },
  {
   "cell_type": "code",
   "execution_count": 2,
   "metadata": {},
   "outputs": [],
   "source": [
    "import numpy as np\n",
    "import matplotlib.pyplot as plt\n",
    "%matplotlib inline\n",
    "import os\n",
    "import sys\n",
    "import json\n",
    "\n",
    "# select current working directory and subfolder to save the files\n",
    "current_directory = os.getcwd()\n",
    "subfolder_path = 'data'\n",
    "\n",
    "# select file path for standardroutes\n",
    "file_path = os.path.join(current_directory, subfolder_path, 'standard20.json')\n",
    "with open(file_path, 'r') as file:\n",
    "    standardroutes = json.load(file) #yaml.safe_load(file)\n",
    "\n",
    "# select file path for actual routes\n",
    "file_path = os.path.join(current_directory, subfolder_path, 'actual20.json')\n",
    "with open(file_path, 'r') as file:\n",
    "    actual_routes = json.load(file)"
   ]
  },
  {
   "cell_type": "markdown",
   "metadata": {},
   "source": [
    "### **Function to compute a similarity score between two trips**"
   ]
  },
  {
   "cell_type": "code",
   "execution_count": 3,
   "metadata": {},
   "outputs": [],
   "source": [
    "def fun_similarity_merchandise(trip1, trip2, prints=True):\n",
    "    if (prints==True):\n",
    "        print('--------------------------new trip--------------------------')\n",
    "        print('Trip from {} to {}:\\n'.format(trip1['from'], trip1['to']))\n",
    "\n",
    "    # check if driver made any modifications\n",
    "    if trip1['merchandise'] == trip2['merchandise']:\n",
    "        trip_similarity_score = 1\n",
    "        if (prints==True): print('No modification by the driver.')\n",
    "    else:\n",
    "        # extract merchandise dictionaries and products of both trips\n",
    "        merchandise1 = trip1['merchandise']\n",
    "        merchandise2 = trip2['merchandise']\n",
    "        products1 = list(merchandise1.keys())\n",
    "        products2 = list(merchandise2.keys())\n",
    "\n",
    "        # get the intersection of correctly picked products by the driver and their quantities\n",
    "        corr_products = set(products1).intersection(products2)\n",
    "        if (prints==True): print('Correct products:', corr_products)\n",
    "\n",
    "        ### OPTION 1: get the correctly picked products\n",
    "        corr_prod_and_quant = {product for product in corr_products if merchandise1[product] == merchandise2[product]} #check if quantities are equal in trip1 and trip2\n",
    "        corr_quantities = int(np.sum([merchandise1[product] for product in corr_prod_and_quant]))\n",
    "        if (len(corr_prod_and_quant) > 0) and (prints==True):\n",
    "            print('  - Correct quantity: {} with sum: {}'.format({product: merchandise1[product] for product in corr_prod_and_quant}, corr_quantities))\n",
    "\n",
    "        ### OPTION 2: get the products whose quantities have been changed and their respective quantity modifications\n",
    "        corr_prod_and_wrong_quant = list(set(corr_products) - set(corr_prod_and_quant))\n",
    "        old_quantities = int(np.sum([merchandise1[product] for product in corr_prod_and_wrong_quant]))\n",
    "        quantity_changes = [merchandise2[product] - merchandise1[product] for product in corr_prod_and_wrong_quant]\n",
    "        changes_up = int(np.sum([i for i in quantity_changes if i > 0]))\n",
    "        changes_down = int(np.abs(np.sum([i for i in quantity_changes if i < 0])))\n",
    "        if (len(corr_prod_and_wrong_quant) > 0) and (prints==True):\n",
    "            print('  - Changed quantites (+/-):', {product: quantity for product, quantity in zip(corr_prod_and_wrong_quant, quantity_changes)})\n",
    "\n",
    "        ### OPTION 3: get the products and their respective quantities that were cut of route 1 by the driver\n",
    "        cut_products = list(set(products1) - corr_products)\n",
    "        cut_quantities = int(np.sum([merchandise1[i] for i in cut_products]))\n",
    "        if (len(cut_products) > 0) and (prints==True):\n",
    "            print('Driver cut products: {} with sum: {}'.format({product: merchandise1[product] for product in cut_products}, cut_quantities))\n",
    "        \n",
    "        ### OPTION 4: get the products and their respective quantities that added to route 2 by the driver\n",
    "        added_products = list(set(products2) - corr_products)\n",
    "        added_quantities = int(np.sum([merchandise2[i] for i in added_products]))\n",
    "        if (len(added_products) > 0) and (prints==True):\n",
    "            print('Driver added products: {} with sum: {}'.format({product: merchandise2[product] for product in added_products}, added_quantities))\n",
    "\n",
    "        # compute similarity score of the trips\n",
    "        numerator = corr_quantities + (old_quantities - changes_down) #all corr. quantities + (the modified quanitities minus their reductions)\n",
    "        denominator = corr_quantities + (old_quantities + changes_up) + cut_quantities + added_quantities #all correct quantities + (all modified quantities plus their increase) + cut products + added products´,\n",
    "        trip_similarity_score =  numerator / denominator\n",
    "    \n",
    "        # view results\n",
    "        if (prints==True): print('\\nSimilarity score formula between the trips to {}:'.format(trip1['to']))\n",
    "        if (prints==True): print('    sim(trip1, trip2) = ({} + ({}-{})) / ({} + ({}+{}) + {} + {})'.format(corr_quantities, old_quantities, changes_down, corr_quantities, old_quantities, changes_up, cut_quantities, added_quantities))\n",
    "    if (prints==True): print('    sim(trip1, trip2) = {}\\n'.format(np.round(trip_similarity_score, 4)))\n",
    "\n",
    "    return trip_similarity_score"
   ]
  },
  {
   "cell_type": "code",
   "execution_count": 4,
   "metadata": {},
   "outputs": [
    {
     "data": {
      "text/plain": [
       "0.6203703703703703"
      ]
     },
     "execution_count": 4,
     "metadata": {},
     "output_type": "execute_result"
    }
   ],
   "source": [
    "# define two example trips\n",
    "trip1 = {'from': 'Lecce', 'to': 'Bologna', 'merchandise': {'Water': 18, 'Tea': 23, 'Apples': 2, 'Potatoes': 19, 'Bananas': 23, 'Tomatoes': 23}}\n",
    "trip2 = {'from': 'Lecce', 'to': 'Bologna', 'merchandise': {'Tea': 23, 'Apples': 2, 'Potatoes': 19, 'Bananas': 23}}\n",
    "\n",
    "fun_similarity_merchandise(trip1, trip2, prints=False)"
   ]
  },
  {
   "cell_type": "markdown",
   "metadata": {},
   "source": [
    "### **Function to compute a similarity score between two routes**"
   ]
  },
  {
   "cell_type": "code",
   "execution_count": 5,
   "metadata": {},
   "outputs": [],
   "source": [
    "# route 1 as standardroute and route 2 as actual route\n",
    "def fun_similarity_score(route1, route2, prints=True):\n",
    "    if (prints==True):\n",
    "        print('\\n--------------------------new similarity score computation--------------------------')\n",
    "        for route in [route1, route2]: show_route(route)\n",
    "\n",
    "    # copy routes to modify them\n",
    "    route1 = copy.deepcopy(route1)\n",
    "    route2 = copy.deepcopy(route2)\n",
    "\n",
    "    # get a list of all city destinations of both routes\n",
    "    destinations1 =  set([trip['to'] for trip in route1['route']])\n",
    "    destinations2 =  set([trip['to'] for trip in route2['route']])\n",
    "    destinations = destinations1.intersection(destinations2)\n",
    "    if (prints==True):\n",
    "        print('Trips to {} occuring in both routes.'.format(destinations))\n",
    "        if (destinations != destinations1): print('Trips to {} not found in route 2.'.format(destinations1 - destinations))\n",
    "        if (destinations != destinations2): print('Found additional trips to {} in route 2.\\n'.format(destinations2 - destinations))\n",
    "\n",
    "    # identify the trips that belong together and compare the merchandise of all trips\n",
    "    # the remaining trips were cut off trip 1 or added to trip 2 and appear only in one route (zero similarity)\n",
    "    trip_similarities = []\n",
    "    for city in destinations:\n",
    "\n",
    "        indizes1 = [i['to'] == city for i in route1['route']]\n",
    "        indizes1 = list(np.array(indizes1).nonzero()[0])\n",
    "\n",
    "        indizes2 = [i['to'] == city for i in route2['route']]\n",
    "        indizes2 = list(np.array(indizes2).nonzero()[0])\n",
    "        \n",
    "        # if a city appears twice as destination in route 1 or 2: compute the similarity of all combinations of trips with that city as destination in route 1 and 2 \n",
    "        # and take the trips with the highest similarity score to identify what trips belong together\n",
    "        scores = []\n",
    "        for i in indizes1:\n",
    "            for j in indizes2:\n",
    "                trip1 = route1['route'][i]\n",
    "                trip2 = route2['route'][j]\n",
    "\n",
    "                # compute similarity score between the the combination (compare merchandise)\n",
    "                scores.append({'index route 1': i, 'index route 2': j, 'score': fun_similarity_merchandise(trip1, trip2, prints=False)})\n",
    "        \n",
    "        if (len(scores) > 1) and (prints==True):\n",
    "            print('\\n{} appeared multiple times in a trip as destination. The trip combination with highest similarity score is taken:\\n{}'.format(city, scores))\n",
    "        \n",
    "        # get the indizes of the trips with highest similarity and compute similarity score with print functions\n",
    "        max_index = np.argmax([i['score'] for i in scores])\n",
    "        trip1 = route1['route'][scores[max_index]['index route 1']]\n",
    "        trip2 = route2['route'][scores[max_index]['index route 2']]\n",
    "        trip_similarity_score = fun_similarity_merchandise(trip1, trip2, prints)\n",
    "\n",
    "        # add the score to the list of similarities per trip\n",
    "        trip_similarities.append(trip_similarity_score)\n",
    "\n",
    "        # remove the trips from the routes after calculating their similarity\n",
    "        route1['route'].remove(trip1)\n",
    "        route2['route'].remove(trip2)\n",
    "\n",
    "    # view remaining trips in both routes\n",
    "    if (prints==True):\n",
    "        print('Remaining trips per route (cut or added by the driver):')\n",
    "        for route in [route1, route2]:\n",
    "            if (len(route['route']) > 0): show_route(route)\n",
    "    \n",
    "    # compute the number of added (route 2) or cut trips (route 1) by the driver (simply the remaining trips in route 1 and route 2)\n",
    "    error_trips = np.sum(len(route1['route']) + len(route2['route']))\n",
    "    if (prints==True): print('Number of cut or added trips by the driver:', error_trips)\n",
    "\n",
    "    # add zero similarity score for all added or cut trips by the driver to the list of similarities per trip\n",
    "    for i in range(error_trips): trip_similarities.append(0)\n",
    "    if (prints==True): print('Similarities per trip:', [np.round(value, 4) for value in trip_similarities])\n",
    "\n",
    "    # calculate the similarity score of route 1 and route 2\n",
    "    similarity_score = np.mean(trip_similarities)\n",
    "    if (prints==True): print('\\nTotal similarity score (Mean of trips similarities):    sim({}, {}) = {}'.format(route1['id'], route2['id'], np.round(similarity_score, 4)))\n",
    "\n",
    "    return similarity_score"
   ]
  },
  {
   "cell_type": "code",
   "execution_count": 6,
   "metadata": {},
   "outputs": [
    {
     "data": {
      "text/plain": [
       "0.7159090909090909"
      ]
     },
     "execution_count": 6,
     "metadata": {},
     "output_type": "execute_result"
    }
   ],
   "source": [
    "# # define two example routes\n",
    "# route1 = standardroutes[13]\n",
    "# route2 = actual_routes[69817]\n",
    "\n",
    "# ### EXECUTE FUNCTION ###\n",
    "# fun_similarity_score(route1, route2, prints=False)"
   ]
  },
  {
   "cell_type": "markdown",
   "metadata": {},
   "source": [
    "### **Function to compute all similarity scores between standardroutes and their actual routes** ###"
   ]
  },
  {
   "cell_type": "code",
   "execution_count": 7,
   "metadata": {},
   "outputs": [],
   "source": [
    "# this function will be executed in the evalutation notebook\n",
    "def compute_similarites(input_sr, input_ar, prints=True, bar=True):\n",
    "\n",
    "    # creare dictionary to store scores\n",
    "    similarity_scores = []\n",
    "\n",
    "    # compute similarity score for each standardroute-actual-route-pair\n",
    "    for actual_route in tqdm(input_ar, desc='Processing', unit='iteration', leave=bar):\n",
    "\n",
    "        # get corresponding standardroute\n",
    "        actual_route_id = actual_route['id']\n",
    "        driver = actual_route['driver']\n",
    "        standardroute_id = actual_route['sroute']\n",
    "        indizes = [i['id'] == standardroute_id for i in input_sr]\n",
    "        standardroute = [standardroute for standardroute, index in zip(input_sr, indizes) if index][0]\n",
    "\n",
    "        # compute similarity score with above defined funciton\n",
    "        similarity_score = fun_similarity_score(route1=standardroute, route2=actual_route, prints=prints)\n",
    "\n",
    "        # create new entry in the results dictionary and add the score\n",
    "        similarity_scores.append({'id': actual_route_id, 'driver': driver, 'sroute': standardroute_id, 'score': similarity_score}) \n",
    "\n",
    "    if (bar == True): print('\\nAll scores successfully computed.')\n",
    "    if (bar == True): print('Mean similarity score:', np.round(np.mean([i['score'] for i in similarity_scores]), 4))\n",
    "\n",
    "    return similarity_scores"
   ]
  },
  {
   "cell_type": "code",
   "execution_count": 8,
   "metadata": {},
   "outputs": [
    {
     "name": "stdout",
     "output_type": "stream",
     "text": [
      "Functions for similarity score computations successfully loaded.\n"
     ]
    }
   ],
   "source": [
    "print('Functions for similarity score computations successfully loaded.')"
   ]
  }
 ],
 "metadata": {
  "kernelspec": {
   "display_name": "base",
   "language": "python",
   "name": "python3"
  },
  "language_info": {
   "codemirror_mode": {
    "name": "ipython",
    "version": 3
   },
   "file_extension": ".py",
   "mimetype": "text/x-python",
   "name": "python",
   "nbconvert_exporter": "python",
   "pygments_lexer": "ipython3",
   "version": "3.9.16"
  }
 },
 "nbformat": 4,
 "nbformat_minor": 2
}
