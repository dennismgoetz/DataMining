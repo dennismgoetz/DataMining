{
 "cells": [
  {
   "cell_type": "markdown",
   "metadata": {},
   "source": [
    "# **Data Generation**"
   ]
  },
  {
   "cell_type": "code",
   "execution_count": 1,
   "metadata": {},
   "outputs": [],
   "source": [
    "import pandas as pd\n",
    "import numpy as np\n",
    "import random\n",
    "import matplotlib.pyplot as plt\n",
    "import yaml\n",
    "import json\n",
    "import sys\n",
    "import os"
   ]
  },
  {
   "cell_type": "markdown",
   "metadata": {},
   "source": [
    "### **Standardroutes** ###"
   ]
  },
  {
   "cell_type": "code",
   "execution_count": 2,
   "metadata": {},
   "outputs": [],
   "source": [
    "# lists of cities, products and quantities\n",
    "# 20 cities\n",
    "cities = ['Trento', 'Verona', 'Rome', 'Milano', 'Venezia', 'Bergamo', 'Padova', 'Bologna', 'Bolzano', 'Firenze',\n",
    "          'Pisa', 'Siena', 'Napoli', 'Palermo', 'Genova', 'Torino', 'Lecce', 'Monza', 'Modena', 'Udine']\n",
    "# 20 products\n",
    "products = ['Milk', 'Apples', 'Bananas', 'Bread', 'Cheese', 'Beer', 'Tomatoes', 'Pens', 'Butter', 'Honey',\n",
    "           'Fish', 'Meat', 'Water', 'Tea', 'Chocolate', 'Yogurt', 'Pasta', 'Rice', 'Carrots', 'Potatoes']\n",
    "# quantites from 2 to 30\n",
    "min_quantity = 2\n",
    "max_quantity = 30\n",
    "quantities = list(np.arange(start=min_quantity, stop=max_quantity+1, step=1))"
   ]
  },
  {
   "cell_type": "markdown",
   "metadata": {},
   "source": [
    "**Parameter description**\n",
    "- **min_length**: minimun length of a standardroute\n",
    "- **max_length**: maximum length of a standardroute\n",
    "- **min_products**: minimum number of products per trip\n",
    "- **max_products**: maximum number of products per trip"
   ]
  },
  {
   "cell_type": "code",
   "execution_count": 3,
   "metadata": {},
   "outputs": [
    {
     "name": "stdout",
     "output_type": "stream",
     "text": [
      "Functions for data generation successfully loaded.\n"
     ]
    },
    {
     "name": "stderr",
     "output_type": "stream",
     "text": [
      "Processing: 100%|██████████| 100/100 [00:00<00:00, 4297.31iteration/s]"
     ]
    },
    {
     "name": "stdout",
     "output_type": "stream",
     "text": [
      "id:s1, route:\n",
      "     {'from': 'Modena', 'to': 'Venezia', 'merchandise': {'Milk': 13, 'Apples': 30, 'Cheese': 24}}\n",
      "     {'from': 'Venezia', 'to': 'Padova', 'merchandise': {'Milk': 7, 'Fish': 16, 'Bread': 29, 'Pens': 8, 'Tomatoes': 26}}\n",
      "     {'from': 'Padova', 'to': 'Trento', 'merchandise': {'Butter': 12, 'Potatoes': 15, 'Water': 18, 'Rice': 30, 'Meat': 12, 'Tomatoes': 12}}\n",
      "     {'from': 'Trento', 'to': 'Rome', 'merchandise': {'Pens': 28, 'Tea': 9, 'Meat': 10, 'Beer': 11, 'Fish': 17}}\n",
      "     {'from': 'Rome', 'to': 'Milano', 'merchandise': {'Beer': 12, 'Yogurt': 9, 'Rice': 15, 'Butter': 23, 'Meat': 26, 'Water': 12}}\n",
      "\n",
      "\n",
      "id:s2, route:\n",
      "     {'from': 'Bologna', 'to': 'Bolzano', 'merchandise': {'Milk': 19, 'Water': 6, 'Beer': 21, 'Bananas': 3}}\n",
      "     {'from': 'Bolzano', 'to': 'Palermo', 'merchandise': {'Honey': 7, 'Milk': 16, 'Apples': 8}}\n",
      "     {'from': 'Palermo', 'to': 'Genova', 'merchandise': {'Cheese': 12, 'Potatoes': 10, 'Yogurt': 19, 'Water': 10, 'Milk': 28, 'Bread': 7, 'Fish': 5}}\n",
      "\n",
      "\n",
      "id:s3, route:\n",
      "     {'from': 'Firenze', 'to': 'Modena', 'merchandise': {'Beer': 18, 'Butter': 7, 'Fish': 9, 'Meat': 27, 'Apples': 13}}\n",
      "     {'from': 'Modena', 'to': 'Siena', 'merchandise': {'Butter': 21, 'Potatoes': 26, 'Tomatoes': 5, 'Apples': 7}}\n",
      "     {'from': 'Siena', 'to': 'Trento', 'merchandise': {'Yogurt': 11, 'Tomatoes': 8, 'Rice': 3, 'Chocolate': 14, 'Bananas': 3, 'Carrots': 12}}\n",
      "     {'from': 'Trento', 'to': 'Bologna', 'merchandise': {'Honey': 16, 'Carrots': 8, 'Water': 25, 'Pasta': 20}}\n",
      "     {'from': 'Bologna', 'to': 'Verona', 'merchandise': {'Honey': 30, 'Pasta': 8, 'Potatoes': 19}}\n",
      "     {'from': 'Verona', 'to': 'Rome', 'merchandise': {'Bananas': 7, 'Butter': 29, 'Pens': 23, 'Carrots': 14, 'Water': 8}}\n",
      "     {'from': 'Rome', 'to': 'Pisa', 'merchandise': {'Carrots': 20, 'Meat': 16, 'Pasta': 28}}\n",
      "\n",
      "\n"
     ]
    },
    {
     "name": "stderr",
     "output_type": "stream",
     "text": [
      "\n"
     ]
    }
   ],
   "source": [
    "# run notebook to load functions fun_sroutes(), fun_aroutes() and show_route()\n",
    "# to create standardroutes and actual routes and to visualize a route\n",
    "%run \"functions_data_generation.ipynb\"\n",
    "\n",
    "# define parameters\n",
    "min_length = 3\n",
    "max_length = 7\n",
    "min_products = 3\n",
    "max_products = 7\n",
    "\n",
    "### EXECUTE FUNCTION ###\n",
    "standardroutes = fun_sroutes(number_of_routes=100, prints=False)"
   ]
  },
  {
   "cell_type": "markdown",
   "metadata": {},
   "source": [
    "### **Drivers** ###\n",
    "##### **possible attributes:**\n",
    "- likes short / long routes (cuts or adds cities)\n",
    "- likes a city / dislikes a city (cuts or adds specific cities)\n",
    "- likes many products / few products (cuts or adds products)\n",
    "- likes a product / dislikes a product (cuts or adds specific products)\n",
    "- likes high quantities / low quantites (increases or decreases quantities)"
   ]
  },
  {
   "cell_type": "markdown",
   "metadata": {},
   "source": [
    "##### **Driver descriptions**\n",
    "\n",
    "- **Driver A**: with attributes *['likes short routes', 'likes low quantities']*; he prefers routes with max. 4 trips and overall quantities of max. 15.<br><br>\n",
    "- **Driver B**: with attributes *['likes long routes', 'likes many products']*; he prefers routes with min. 6 trips and trips with a min. of 6 products.<br><br>\n",
    "- **Driver C**: with attributes *['likes a city', 'dislikes a product']*; he prefers routes which contain the cities ['Trento', 'Padova'], but no trips with the products ['Water'] or at least max. quantity of 10 of these disliked products.<br><br>\n",
    "- **Driver D**: with attributes *['likes a city', 'dislikes a city', 'likes low quantities']*; he prefers routes with the cities ['Trento', 'Rome'], but without the cities ['Milano', 'Palermo', 'Lecce'] and overall quantities of max. 15.<br><br>\n",
    "- **Driver E**: with attributes *['likes short routes', 'likes few products']*; he prefers routes with max. 4 trips and max. 4 products per trip.<br><br>\n",
    "- **Driver F**: with attributes *['likes short routes', 'likes many products']*; he prefers routes with max. 4 trips and trips with min. 6 products per trip.<br><br>\n",
    "- **Driver G**: with attributes *['likes short routes', 'likes a product']*; he prefers routes with max. 4 trips and trips that contain the products ['Beer', 'Cheese'] or at least min. quantity of 20 of these liked products.<br><br>\n",
    "- **Driver H**: with attributes *['dislikes a city', 'likes many products', 'dislikes a product']*; he prefers routes without the cities ['Lecce', 'Palermo'], trips with at least 6 different types of products, but without products ['Water', 'Milk'] or at least max. quantity of 10 of these disliked products.<br><br>\n",
    "- **Driver I**: with attributes *['likes short routes', 'likes high quantities']*; he prefers routes with max. 4 trips and overall quantities of min. 15.<br><br>\n",
    "- **Driver J**: with attributes *['likes a product', 'likes low quantities']*; he prefers routes with trips that contain the products ['Chocolate', 'Honey'] or at least min. quantity of 20 of these liked products, but overall quantities of max. 15.<br><br>"
   ]
  },
  {
   "cell_type": "code",
   "execution_count": 4,
   "metadata": {},
   "outputs": [
    {
     "data": {
      "text/html": [
       "<div>\n",
       "<style scoped>\n",
       "    .dataframe tbody tr th:only-of-type {\n",
       "        vertical-align: middle;\n",
       "    }\n",
       "\n",
       "    .dataframe tbody tr th {\n",
       "        vertical-align: top;\n",
       "    }\n",
       "\n",
       "    .dataframe thead th {\n",
       "        text-align: right;\n",
       "    }\n",
       "</style>\n",
       "<table border=\"1\" class=\"dataframe\">\n",
       "  <thead>\n",
       "    <tr style=\"text-align: right;\">\n",
       "      <th></th>\n",
       "      <th>likes short routes</th>\n",
       "      <th>likes long routes</th>\n",
       "      <th>likes a city</th>\n",
       "      <th>dislikes a city</th>\n",
       "      <th>likes few products</th>\n",
       "      <th>likes many products</th>\n",
       "      <th>likes a product</th>\n",
       "      <th>dislikes a product</th>\n",
       "      <th>likes high quantities</th>\n",
       "      <th>likes low quantities</th>\n",
       "    </tr>\n",
       "  </thead>\n",
       "  <tbody>\n",
       "    <tr>\n",
       "      <th>driver_A</th>\n",
       "      <td>Yes</td>\n",
       "      <td>-</td>\n",
       "      <td>-</td>\n",
       "      <td>-</td>\n",
       "      <td>-</td>\n",
       "      <td>-</td>\n",
       "      <td>-</td>\n",
       "      <td>-</td>\n",
       "      <td>-</td>\n",
       "      <td>Yes</td>\n",
       "    </tr>\n",
       "    <tr>\n",
       "      <th>driver_B</th>\n",
       "      <td>-</td>\n",
       "      <td>Yes</td>\n",
       "      <td>-</td>\n",
       "      <td>-</td>\n",
       "      <td>-</td>\n",
       "      <td>Yes</td>\n",
       "      <td>-</td>\n",
       "      <td>-</td>\n",
       "      <td>-</td>\n",
       "      <td>-</td>\n",
       "    </tr>\n",
       "    <tr>\n",
       "      <th>driver_C</th>\n",
       "      <td>-</td>\n",
       "      <td>-</td>\n",
       "      <td>Yes</td>\n",
       "      <td>-</td>\n",
       "      <td>-</td>\n",
       "      <td>-</td>\n",
       "      <td>-</td>\n",
       "      <td>Yes</td>\n",
       "      <td>-</td>\n",
       "      <td>-</td>\n",
       "    </tr>\n",
       "    <tr>\n",
       "      <th>driver_D</th>\n",
       "      <td>-</td>\n",
       "      <td>-</td>\n",
       "      <td>Yes</td>\n",
       "      <td>Yes</td>\n",
       "      <td>-</td>\n",
       "      <td>-</td>\n",
       "      <td>-</td>\n",
       "      <td>-</td>\n",
       "      <td>-</td>\n",
       "      <td>Yes</td>\n",
       "    </tr>\n",
       "    <tr>\n",
       "      <th>driver_E</th>\n",
       "      <td>-</td>\n",
       "      <td>Yes</td>\n",
       "      <td>-</td>\n",
       "      <td>-</td>\n",
       "      <td>Yes</td>\n",
       "      <td>-</td>\n",
       "      <td>-</td>\n",
       "      <td>-</td>\n",
       "      <td>-</td>\n",
       "      <td>-</td>\n",
       "    </tr>\n",
       "    <tr>\n",
       "      <th>driver_F</th>\n",
       "      <td>Yes</td>\n",
       "      <td>-</td>\n",
       "      <td>-</td>\n",
       "      <td>-</td>\n",
       "      <td>-</td>\n",
       "      <td>Yes</td>\n",
       "      <td>-</td>\n",
       "      <td>-</td>\n",
       "      <td>-</td>\n",
       "      <td>-</td>\n",
       "    </tr>\n",
       "    <tr>\n",
       "      <th>driver_G</th>\n",
       "      <td>Yes</td>\n",
       "      <td>-</td>\n",
       "      <td>-</td>\n",
       "      <td>-</td>\n",
       "      <td>-</td>\n",
       "      <td>-</td>\n",
       "      <td>Yes</td>\n",
       "      <td>-</td>\n",
       "      <td>-</td>\n",
       "      <td>-</td>\n",
       "    </tr>\n",
       "    <tr>\n",
       "      <th>driver_H</th>\n",
       "      <td>-</td>\n",
       "      <td>-</td>\n",
       "      <td>-</td>\n",
       "      <td>Yes</td>\n",
       "      <td>-</td>\n",
       "      <td>Yes</td>\n",
       "      <td>-</td>\n",
       "      <td>Yes</td>\n",
       "      <td>-</td>\n",
       "      <td>-</td>\n",
       "    </tr>\n",
       "    <tr>\n",
       "      <th>driver_I</th>\n",
       "      <td>Yes</td>\n",
       "      <td>-</td>\n",
       "      <td>-</td>\n",
       "      <td>-</td>\n",
       "      <td>-</td>\n",
       "      <td>-</td>\n",
       "      <td>-</td>\n",
       "      <td>-</td>\n",
       "      <td>Yes</td>\n",
       "      <td>-</td>\n",
       "    </tr>\n",
       "    <tr>\n",
       "      <th>driver_J</th>\n",
       "      <td>-</td>\n",
       "      <td>-</td>\n",
       "      <td>-</td>\n",
       "      <td>-</td>\n",
       "      <td>-</td>\n",
       "      <td>-</td>\n",
       "      <td>Yes</td>\n",
       "      <td>-</td>\n",
       "      <td>-</td>\n",
       "      <td>Yes</td>\n",
       "    </tr>\n",
       "  </tbody>\n",
       "</table>\n",
       "</div>"
      ],
      "text/plain": [
       "         likes short routes likes long routes likes a city dislikes a city  \\\n",
       "driver_A                Yes                 -            -               -   \n",
       "driver_B                  -               Yes            -               -   \n",
       "driver_C                  -                 -          Yes               -   \n",
       "driver_D                  -                 -          Yes             Yes   \n",
       "driver_E                  -               Yes            -               -   \n",
       "driver_F                Yes                 -            -               -   \n",
       "driver_G                Yes                 -            -               -   \n",
       "driver_H                  -                 -            -             Yes   \n",
       "driver_I                Yes                 -            -               -   \n",
       "driver_J                  -                 -            -               -   \n",
       "\n",
       "         likes few products likes many products likes a product  \\\n",
       "driver_A                  -                   -               -   \n",
       "driver_B                  -                 Yes               -   \n",
       "driver_C                  -                   -               -   \n",
       "driver_D                  -                   -               -   \n",
       "driver_E                Yes                   -               -   \n",
       "driver_F                  -                 Yes               -   \n",
       "driver_G                  -                   -             Yes   \n",
       "driver_H                  -                 Yes               -   \n",
       "driver_I                  -                   -               -   \n",
       "driver_J                  -                   -             Yes   \n",
       "\n",
       "         dislikes a product likes high quantities likes low quantities  \n",
       "driver_A                  -                     -                  Yes  \n",
       "driver_B                  -                     -                    -  \n",
       "driver_C                Yes                     -                    -  \n",
       "driver_D                  -                     -                  Yes  \n",
       "driver_E                  -                     -                    -  \n",
       "driver_F                  -                     -                    -  \n",
       "driver_G                  -                     -                    -  \n",
       "driver_H                Yes                     -                    -  \n",
       "driver_I                  -                   Yes                    -  \n",
       "driver_J                  -                     -                  Yes  "
      ]
     },
     "metadata": {},
     "output_type": "display_data"
    }
   ],
   "source": [
    "# create a character for each driver with his preferences\n",
    "drivers = ['A', 'B', 'C', 'D', 'E', 'F', 'G', 'H', 'I', 'J']\n",
    "attributes = ['likes short routes', 'likes long routes',\n",
    "             'likes a city', 'dislikes a city',\n",
    "             'likes few products', 'likes many products',\n",
    "             'likes a product', 'dislikes a product',\n",
    "             'likes high quantities', 'likes low quantities']\n",
    "\n",
    "data = np.where(np.identity(n=10, dtype=int)==1, 'Yes', '-')\n",
    "df_drivers_attributes = pd.DataFrame(data=data, index=['driver_' + driver for driver in drivers], columns=attributes)\n",
    "df_drivers_attributes.loc['driver_A', 'likes low quantities'] = 'Yes'\n",
    "df_drivers_attributes.loc['driver_B', 'likes many products'] = 'Yes'\n",
    "df_drivers_attributes.loc['driver_C', 'dislikes a product'] = 'Yes'\n",
    "df_drivers_attributes.loc['driver_D', 'likes low quantities'] = 'Yes'\n",
    "df_drivers_attributes.loc['driver_D', 'likes a city'] = 'Yes'\n",
    "df_drivers_attributes.loc['driver_E', 'likes long routes'] = 'Yes'\n",
    "df_drivers_attributes.loc['driver_F', 'likes short routes'] = 'Yes'\n",
    "df_drivers_attributes.loc['driver_G', 'likes short routes'] = 'Yes'\n",
    "df_drivers_attributes.loc['driver_H', 'dislikes a city'] = 'Yes'\n",
    "df_drivers_attributes.loc['driver_H', 'likes many products'] = 'Yes'\n",
    "df_drivers_attributes.loc['driver_I', 'likes short routes'] = 'Yes'\n",
    "df_drivers_attributes.loc['driver_J', 'likes a product'] = 'Yes'\n",
    "display(df_drivers_attributes)\n",
    "\n",
    "# define dictionarys with more specific information about what drivers like and dislike\n",
    "driver_products = {'driver_C': ['Water'], #dislike\n",
    "                   'driver_G': ['Beer', 'Cheese'], #like\n",
    "                   'driver_H': ['Milk', 'Water'], #dislike\n",
    "                   'driver_J': ['Chocolate', 'Honey']} #like\n",
    "\n",
    "driver_cities_likes = {'driver_C': ['Trento', 'Padova'], #like\n",
    "                       'driver_D': ['Rome', 'Trento']} #like\n",
    "\n",
    "driver_cities_dislikes = {'driver_D': ['Milano', 'Palermo', 'Lecce'], #dislike\n",
    "                          'driver_H': ['Lecce', 'Palermo']} #dislike"
   ]
  },
  {
   "cell_type": "markdown",
   "metadata": {},
   "source": [
    "### **Actual Routes** ###"
   ]
  },
  {
   "cell_type": "code",
   "execution_count": 5,
   "metadata": {},
   "outputs": [
    {
     "name": "stdout",
     "output_type": "stream",
     "text": [
      "Number of actual routes: 100000\n",
      "\n",
      "id:s1, route:\n",
      "     {'from': 'Modena', 'to': 'Venezia', 'merchandise': {'Milk': 13, 'Apples': 30, 'Cheese': 24}}\n",
      "     {'from': 'Venezia', 'to': 'Padova', 'merchandise': {'Milk': 7, 'Fish': 16, 'Bread': 29, 'Pens': 8, 'Tomatoes': 26}}\n",
      "     {'from': 'Padova', 'to': 'Trento', 'merchandise': {'Butter': 12, 'Potatoes': 15, 'Water': 18, 'Rice': 30, 'Meat': 12, 'Tomatoes': 12}}\n",
      "     {'from': 'Trento', 'to': 'Rome', 'merchandise': {'Pens': 28, 'Tea': 9, 'Meat': 10, 'Beer': 11, 'Fish': 17}}\n",
      "     {'from': 'Rome', 'to': 'Milano', 'merchandise': {'Beer': 12, 'Yogurt': 9, 'Rice': 15, 'Butter': 23, 'Meat': 26, 'Water': 12}}\n",
      "\n",
      "\n"
     ]
    }
   ],
   "source": [
    "# define how many actual routes should be created for each standardroute\n",
    "if (len(standardroutes) == 20): jobs_per_route = 5000 #for 20 sr and 100000 ar\n",
    "elif (len(standardroutes) == 50): jobs_per_route = 2000 #for 50 sr and 100000 ar\n",
    "else: jobs_per_route = 1000 #for 100 sr and 100000 ar\n",
    "\n",
    "# calculate the total amount of actual routes\n",
    "number_of_actual_routes = jobs_per_route * len(standardroutes)\n",
    "print('Number of actual routes: {}\\n'.format(number_of_actual_routes))\n",
    "\n",
    "show_route(standardroutes[0])"
   ]
  },
  {
   "cell_type": "markdown",
   "metadata": {},
   "source": [
    "**Define parameters**\n",
    "- **min_l**: minimum route length for a driver who likes long routes\n",
    "- **max_l**: maximum route length for a driver who likes short routes\n",
    "- **min_p**: minimum products per trip for a driver who likes many products per trip\n",
    "- **max_p**: maximum products per trip for a driver who likes few products per trip\n",
    "- **min_q**: minimum quantity if a driver likes a product\n",
    "- **max_q**: maximum quantity if a driver dislikes aproduct\n",
    "- **q_threshold**: miniumum/maximum quantity if a driver likes high/low quantities\n",
    "- **prandom_p**: parameter of randomness (decides with what probability a driver increases/decreases overall quantities if he likes high/low quantities)\n",
    "- **extra_random_p**: parameter of extra randomness (added to the parameter of randomness to decide if a driver increases/decreases the quantites of liked/disliked products)\n",
    "<br><br>\n",
    "- **input_sr**: standardroutes, which are used to create the actual routes\n",
    "- **driver_givern**: select a specific driver (for debugging and evaluation of problem 2 and 3); default = False\n",
    "- **prints**: settings for printing the output or not; options=(True, False); default = True\n",
    "-**bar**: show the progress bar after finishing all iterations; default = True\n",
    "- **ar_count**: counts the actual routes; default = 0"
   ]
  },
  {
   "cell_type": "code",
   "execution_count": 6,
   "metadata": {},
   "outputs": [
    {
     "name": "stderr",
     "output_type": "stream",
     "text": [
      "Processing:   0%|          | 0/100 [00:00<?, ?iteration/s]"
     ]
    },
    {
     "name": "stderr",
     "output_type": "stream",
     "text": [
      "Processing: 100%|██████████| 100/100 [02:59<00:00,  1.79s/iteration]\n"
     ]
    }
   ],
   "source": [
    "# define parameters\n",
    "min_l = 6\n",
    "max_l = 4\n",
    "min_p = 6\n",
    "max_p = 4\n",
    "min_q = 20\n",
    "max_q = 10\n",
    "q_threshold = 15\n",
    "random_p = 0.7\n",
    "extra_random_p = 0.15\n",
    "\n",
    "### EXECUTE FUNCTION ###\n",
    "actual_routes = fun_aroutes(input_sr=standardroutes, driver_given=False, debug=False, prints=False)"
   ]
  },
  {
   "cell_type": "code",
   "execution_count": 7,
   "metadata": {},
   "outputs": [
    {
     "name": "stdout",
     "output_type": "stream",
     "text": [
      "\n",
      "\n",
      "------------------------------COMPARISON STANDARDROUTE VS ACTUAL ROUTE-----------------------------------\n",
      "id:s1, route:\n",
      "     {'from': 'Modena', 'to': 'Venezia', 'merchandise': {'Milk': 13, 'Apples': 30, 'Cheese': 24}}\n",
      "     {'from': 'Venezia', 'to': 'Padova', 'merchandise': {'Milk': 7, 'Fish': 16, 'Bread': 29, 'Pens': 8, 'Tomatoes': 26}}\n",
      "     {'from': 'Padova', 'to': 'Trento', 'merchandise': {'Butter': 12, 'Potatoes': 15, 'Water': 18, 'Rice': 30, 'Meat': 12, 'Tomatoes': 12}}\n",
      "     {'from': 'Trento', 'to': 'Rome', 'merchandise': {'Pens': 28, 'Tea': 9, 'Meat': 10, 'Beer': 11, 'Fish': 17}}\n",
      "     {'from': 'Rome', 'to': 'Milano', 'merchandise': {'Beer': 12, 'Yogurt': 9, 'Rice': 15, 'Butter': 23, 'Meat': 26, 'Water': 12}}\n",
      "\n",
      "\n",
      "Driver's attributes: ['likes long routes', 'likes many products']\n",
      "id:a1, driver:B, sroute:s1, route:\n",
      "     {'from': 'Bolzano', 'to': 'Modena', 'merchandise': {'Apples': 3, 'Bananas': 23, 'Honey': 17, 'Carrots': 11, 'Pasta': 8, 'Fish': 3}}\n",
      "     {'from': 'Modena', 'to': 'Venezia', 'merchandise': {'Milk': 13, 'Apples': 30, 'Cheese': 24, 'Tomatoes': 14, 'Water': 13}}\n",
      "     {'from': 'Venezia', 'to': 'Rome', 'merchandise': {'Water': 16, 'Chocolate': 8, 'Tea': 19, 'Cheese': 23, 'Apples': 9, 'Meat': 15, 'Pasta': 16}}\n",
      "     {'from': 'Rome', 'to': 'Padova', 'merchandise': {'Milk': 7, 'Fish': 16, 'Bread': 29, 'Pens': 8, 'Tomatoes': 26, 'Potatoes': 17, 'Tea': 17}}\n",
      "     {'from': 'Padova', 'to': 'Trento', 'merchandise': {'Butter': 12, 'Potatoes': 15, 'Water': 18, 'Rice': 30, 'Meat': 12, 'Tomatoes': 12}}\n",
      "     {'from': 'Trento', 'to': 'Rome', 'merchandise': {'Pens': 28, 'Tea': 9, 'Meat': 10, 'Beer': 11, 'Fish': 17, 'Carrots': 5, 'Potatoes': 6}}\n",
      "     {'from': 'Rome', 'to': 'Milano', 'merchandise': {'Beer': 12, 'Yogurt': 9, 'Rice': 15, 'Butter': 23, 'Meat': 26, 'Water': 12}}\n",
      "\n",
      "\n",
      "\n",
      "\n",
      "------------------------------COMPARISON STANDARDROUTE VS ACTUAL ROUTE-----------------------------------\n",
      "id:s1, route:\n",
      "     {'from': 'Modena', 'to': 'Venezia', 'merchandise': {'Milk': 13, 'Apples': 30, 'Cheese': 24}}\n",
      "     {'from': 'Venezia', 'to': 'Padova', 'merchandise': {'Milk': 7, 'Fish': 16, 'Bread': 29, 'Pens': 8, 'Tomatoes': 26}}\n",
      "     {'from': 'Padova', 'to': 'Trento', 'merchandise': {'Butter': 12, 'Potatoes': 15, 'Water': 18, 'Rice': 30, 'Meat': 12, 'Tomatoes': 12}}\n",
      "     {'from': 'Trento', 'to': 'Rome', 'merchandise': {'Pens': 28, 'Tea': 9, 'Meat': 10, 'Beer': 11, 'Fish': 17}}\n",
      "     {'from': 'Rome', 'to': 'Milano', 'merchandise': {'Beer': 12, 'Yogurt': 9, 'Rice': 15, 'Butter': 23, 'Meat': 26, 'Water': 12}}\n",
      "\n",
      "\n",
      "Driver's attributes: ['likes short routes', 'likes low quantities']\n",
      "id:a2, driver:A, sroute:s1, route:\n",
      "     {'from': 'Modena', 'to': 'Padova', 'merchandise': {'Milk': 7, 'Fish': 16, 'Bread': 29, 'Pens': 8, 'Tomatoes': 26}}\n",
      "     {'from': 'Padova', 'to': 'Trento', 'merchandise': {'Butter': 12, 'Potatoes': 15, 'Water': 5, 'Rice': 6, 'Meat': 12, 'Tomatoes': 12}}\n",
      "     {'from': 'Trento', 'to': 'Milano', 'merchandise': {'Beer': 12, 'Yogurt': 9, 'Rice': 15, 'Butter': 9, 'Meat': 6, 'Water': 12}}\n",
      "\n",
      "\n",
      "\n",
      "\n",
      "------------------------------COMPARISON STANDARDROUTE VS ACTUAL ROUTE-----------------------------------\n",
      "id:s1, route:\n",
      "     {'from': 'Modena', 'to': 'Venezia', 'merchandise': {'Milk': 13, 'Apples': 30, 'Cheese': 24}}\n",
      "     {'from': 'Venezia', 'to': 'Padova', 'merchandise': {'Milk': 7, 'Fish': 16, 'Bread': 29, 'Pens': 8, 'Tomatoes': 26}}\n",
      "     {'from': 'Padova', 'to': 'Trento', 'merchandise': {'Butter': 12, 'Potatoes': 15, 'Water': 18, 'Rice': 30, 'Meat': 12, 'Tomatoes': 12}}\n",
      "     {'from': 'Trento', 'to': 'Rome', 'merchandise': {'Pens': 28, 'Tea': 9, 'Meat': 10, 'Beer': 11, 'Fish': 17}}\n",
      "     {'from': 'Rome', 'to': 'Milano', 'merchandise': {'Beer': 12, 'Yogurt': 9, 'Rice': 15, 'Butter': 23, 'Meat': 26, 'Water': 12}}\n",
      "\n",
      "\n",
      "Driver's attributes: ['likes short routes', 'likes high quantities']\n",
      "id:a3, driver:I, sroute:s1, route:\n",
      "     {'from': 'Modena', 'to': 'Trento', 'merchandise': {'Butter': 22, 'Potatoes': 15, 'Water': 18, 'Rice': 30, 'Meat': 26, 'Tomatoes': 30}}\n",
      "     {'from': 'Trento', 'to': 'Rome', 'merchandise': {'Pens': 28, 'Tea': 9, 'Meat': 10, 'Beer': 11, 'Fish': 17}}\n",
      "     {'from': 'Rome', 'to': 'Milano', 'merchandise': {'Beer': 29, 'Yogurt': 25, 'Rice': 15, 'Butter': 23, 'Meat': 26, 'Water': 28}}\n",
      "\n",
      "\n"
     ]
    }
   ],
   "source": [
    "# compare first three actual routes with their standardroute (or only first actual route if only one was created)\n",
    "for i in range(min(3, len(actual_routes))):\n",
    "    print('\\n\\n------------------------------COMPARISON STANDARDROUTE VS ACTUAL ROUTE-----------------------------------')\n",
    "    show_route(standardroutes[[route['id'] == actual_routes[i]['sroute'] for route in standardroutes].index(True)])\n",
    "    print(\"Driver's attributes:\", df_drivers_attributes.columns[df_drivers_attributes.loc['driver_' + actual_routes[i]['driver']] == 'Yes'].tolist())\n",
    "    show_route(actual_routes[i])"
   ]
  },
  {
   "cell_type": "markdown",
   "metadata": {},
   "source": [
    "### **Analysing the jobs per driver** ###"
   ]
  },
  {
   "cell_type": "code",
   "execution_count": 8,
   "metadata": {},
   "outputs": [
    {
     "name": "stdout",
     "output_type": "stream",
     "text": [
      "driver_A: 10004\n",
      "driver_B: 10093\n",
      "driver_C: 10125\n",
      "driver_D: 9975\n",
      "driver_E: 9926\n",
      "driver_F: 10009\n",
      "driver_G: 9900\n",
      "driver_H: 9840\n",
      "driver_I: 10078\n",
      "driver_J: 10050\n"
     ]
    },
    {
     "data": {
      "image/png": "[encoded data removed]",
      "text/plain": [
       "<Figure size 700x300 with 1 Axes>"
      ]
     },
     "metadata": {},
     "output_type": "display_data"
    }
   ],
   "source": [
    "# count each drivers routes (each route is one job)\n",
    "driver_jobs = [driver['driver'] for driver in actual_routes]\n",
    "drivers_count_list = [driver_jobs.count(driver) for driver in drivers]\n",
    "drivers_count_dict = {drivers[driver]: drivers_count_list[driver] for driver in range(len(drivers))}\n",
    "\n",
    "#display(drivers_count_dict)\n",
    "for driver in drivers: print('driver_{}: {}'.format(driver, drivers_count_dict[driver]))\n",
    "\n",
    "# plot\n",
    "plt.figure(figsize=(7, 3))\n",
    "plt.bar(drivers_count_dict.keys(), drivers_count_dict.values())\n",
    "plt.xlabel('Drivers')\n",
    "plt.ylabel('Amount')\n",
    "plt.title('Number of jobs per driver', size=15)\n",
    "plt.show()"
   ]
  },
  {
   "cell_type": "code",
   "execution_count": 9,
   "metadata": {},
   "outputs": [],
   "source": [
    "#sys.exit()"
   ]
  },
  {
   "cell_type": "markdown",
   "metadata": {},
   "source": [
    "### **Create Json-files** ###"
   ]
  },
  {
   "cell_type": "code",
   "execution_count": 10,
   "metadata": {},
   "outputs": [
    {
     "name": "stdout",
     "output_type": "stream",
     "text": [
      "Json files 'standard100.json' and 'actual100.json' have been successfully created.\n"
     ]
    }
   ],
   "source": [
    "# select current working directory and subfolder to save the files\n",
    "current_directory = os.getcwd()\n",
    "subfolder_path = '../../data'\n",
    "\n",
    "if (len(standardroutes) == 20):  appendix=str(20) #20 standardroutes and 200000 actual routes\n",
    "elif (len(standardroutes) == 50): appendix=str(50) #50 standardroutes and 200000 actual routes\n",
    "elif (len(standardroutes) == 100): appendix=str(100) #100 standardroutes and 200000 actual routes\n",
    "else: appendix = ''\n",
    "\n",
    "file_names = ['standard' + appendix + '.json', 'actual' + appendix + '.json']\n",
    "files = [standardroutes, actual_routes]\n",
    "\n",
    "for i in range(2):\n",
    "    file_path = os.path.join(current_directory, subfolder_path, file_names[i])\n",
    "\n",
    "    with open(file_path, 'w') as file:\n",
    "        json.dump(files[i], file) #yaml.dump(files[i], file)\n",
    "\n",
    "print(f\"Json files '{file_names[0]}' and '{file_names[1]}' have been successfully created.\")"
   ]
  },
  {
   "cell_type": "markdown",
   "metadata": {},
   "source": [
    "### **Read the Json-files with standardroutes and actual routes** ###"
   ]
  },
  {
   "cell_type": "code",
   "execution_count": 11,
   "metadata": {},
   "outputs": [
    {
     "name": "stdout",
     "output_type": "stream",
     "text": [
      "Number of actual routes: 100000\n"
     ]
    }
   ],
   "source": [
    "# select file path for standardroutes\n",
    "file_path = os.path.join(current_directory, subfolder_path, 'standard' + appendix + '.json')\n",
    "with open(file_path, 'r') as file:\n",
    "    standardroutes_json = json.load(file) #yaml.safe_load(file)\n",
    "\n",
    "# select file path for actual routes\n",
    "file_path = os.path.join(current_directory, subfolder_path, 'actual' + appendix + '.json')\n",
    "with open(file_path, 'r') as file:\n",
    "    actual_routes_json = json.load(file)\n",
    "\n",
    "print('Number of actual routes:', len(actual_routes_json))"
   ]
  },
  {
   "cell_type": "code",
   "execution_count": 12,
   "metadata": {},
   "outputs": [],
   "source": [
    "# get all actual routes of one standardroute\n",
    "route_id = 's6'\n",
    "x = [route for route in actual_routes_json if route['sroute'] == route_id]\n",
    "\n",
    "# get all actual routes of one driver\n",
    "driver = 'A'\n",
    "x = [route for route in actual_routes_json if route['driver'] == driver]"
   ]
  },
  {
   "cell_type": "markdown",
   "metadata": {},
   "source": [
    "### **Save all the necessary parameters to create the routes for the evaluation part in a .json file** ###"
   ]
  },
  {
   "cell_type": "code",
   "execution_count": 13,
   "metadata": {},
   "outputs": [],
   "source": [
    "# create the dictionary with the parameters\n",
    "parameter_dictionary = {'cities': cities,\n",
    "                        'products': products,\n",
    "                        'min_quantity': min_quantity,\n",
    "                        'max_quantity': max_quantity,\n",
    "                        'quantities': [int(i) for i in quantities],\n",
    "                        'min_length': min_length,\n",
    "                        'max_length': max_length,\n",
    "                        'min_products': min_products,\n",
    "                        'max_products': max_products,\n",
    "                        'drivers': drivers, \n",
    "                        'df_drivers_attributes': df_drivers_attributes.to_dict(),   #turn DF into dictionary for .json format\n",
    "                        'driver_products': driver_products, \n",
    "                        'driver_cities_likes': driver_cities_likes,\n",
    "                        'driver_cities_dislikes': driver_cities_dislikes,\n",
    "                        'min_l': min_l, \n",
    "                        'max_l': max_l, \n",
    "                        'min_p': min_p, \n",
    "                        'max_p': max_p, \n",
    "                        'min_q': min_q, \n",
    "                        'max_q': min_q, \n",
    "                        'q_threshold': q_threshold,\n",
    "                        'random_p': random_p,\n",
    "                        'extra_random_p': extra_random_p}"
   ]
  },
  {
   "cell_type": "code",
   "execution_count": 14,
   "metadata": {},
   "outputs": [
    {
     "name": "stdout",
     "output_type": "stream",
     "text": [
      "Json file 'parameter_dictionary.json' have been successfully created.\n"
     ]
    }
   ],
   "source": [
    "# select current working directory and subfolder to save the file\n",
    "current_directory = os.getcwd()\n",
    "subfolder_path = '../../data'\n",
    "\n",
    "file_name = 'parameter_dictionary.json'\n",
    "files = parameter_dictionary\n",
    "\n",
    "file_path = os.path.join(current_directory, subfolder_path, file_name)\n",
    "\n",
    "with open(file_path, 'w') as file:\n",
    "    json.dump(parameter_dictionary, file)\n",
    "\n",
    "print(f\"Json file '{file_name}' have been successfully created.\")"
   ]
  },
  {
   "cell_type": "markdown",
   "metadata": {},
   "source": [
    "### **Syntax of standardroutes and actual routes** ###"
   ]
  },
  {
   "cell_type": "code",
   "execution_count": 15,
   "metadata": {},
   "outputs": [],
   "source": [
    "### STANDARDROUTES ###\n",
    "\n",
    "# [\n",
    "# \t{id:s5, route:[\n",
    "# \t\t{from:‘Rome’, to:‘Milan’, merchandise: {milk:3, pens:10, butter:20}},\n",
    "# {from:‘Milan’, to:‘Verona’, merchandise: {milk:5, honey:9, butter:10, tomatoes:20}}, \n",
    "# {from:‘Verona’, to:‘Venezia’, merchandise:{butter:7, pens:2, tomatoes:10}}\n",
    "# ]\n",
    "# }, \n",
    "\n",
    "# {id:s10, route:[\n",
    "# \t\t{from:‘Rome’, to:‘Milan’, merchandise: {milk:2, pens:10, butter:20}},\n",
    "# {from:‘Milan’, to:‘Verona’, merchandise: {milk:5, tomatoes:24}}, \n",
    "# {from:‘Verona’, to:‘Venezia’, merchandise:{butter:7, bread:2, tomatoes:10}}\n",
    "# ]\n",
    "# },\n",
    "\n",
    "# ]"
   ]
  },
  {
   "cell_type": "code",
   "execution_count": 16,
   "metadata": {},
   "outputs": [],
   "source": [
    "### ACTUAL ROUTES ###\n",
    "\n",
    "# [\n",
    "# {id:a25, driver:C, sroute:s5, route:[\n",
    "# {from:‘Rome’, to:‘Milan’, merchandise: {milk:4, pens:4, butter:20}},\n",
    "# {from:‘Milan’, to:‘Bergamo’, merchandise: {milk:5, honey:19, butter:10, tomatoes:20}},\n",
    "# {from:‘Bergamo’, to:‘Venezia’, merchandise:{butter:47, pens:2, tomatoes:1}}\n",
    "# ]\n",
    "# },\n",
    "# {id:a13, driver:E, sroute:s10, route:[\n",
    "# {from:‘Bolzano’, to:‘Milan’, merchandise: {milk:2, pens:10, butter:22}},\n",
    "# {from:‘Milan’, to:‘Verona’, merchandise: {milk:15, tomatoes:4}},\n",
    "# {from:‘Verona’, to:‘Venezia’, merchandise:{butter:7, bread:21, tomatoes:10}}\n",
    "# ]\n",
    "# },\n",
    "# ]"
   ]
  }
 ],
 "metadata": {
  "kernelspec": {
   "display_name": "base",
   "language": "python",
   "name": "python3"
  },
  "language_info": {
   "codemirror_mode": {
    "name": "ipython",
    "version": 3
   },
   "file_extension": ".py",
   "mimetype": "text/x-python",
   "name": "python",
   "nbconvert_exporter": "python",
   "pygments_lexer": "ipython3",
   "version": "3.9.16"
  }
 },
 "nbformat": 4,
 "nbformat_minor": 2
}
